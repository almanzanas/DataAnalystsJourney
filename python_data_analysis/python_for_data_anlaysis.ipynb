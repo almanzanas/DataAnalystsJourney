{
 "cells": [
  {
   "cell_type": "markdown",
   "metadata": {},
   "source": [
    "# Python for Data Analysis\n",
    "\n",
    "McKinney, W. (2022). *Python for Data Analysis: Data Wrangling with Pandas, NumPy, and Jupyter.* O’Reilly Media.\n",
    "\n",
    "Book Materials: https://github.com/wesm/pydata-book <br>\n",
    "Machine Learning in Python: https://scikit-learn.org/stable/  <br>\n",
    "Miniconda: https://docs.conda.io/en/latest/ <br>\n",
    "Conda-Forge: https://conda-forge.org/ <br>\n",
    "\n",
    "Python Libraries:\n",
    "* NumPy\n",
    "* pandas\n",
    "* matplotlib\n",
    "* SciPy\n",
    "* statsmodels\n",
    "\n",
    "Conventions:\n",
    "```python\n",
    "import numpy as np\n",
    "import matplotlib.pyplot as plt\n",
    "import pandas as pd\n",
    "import seaborn as sns\n",
    "import statsmodels as sm\n",
    "```\n",
    "\n",
    "It's recomended to work in other conda's environment. Using alternative environments make it easier to debug problems and ensure the stability of (base) env. Also, It's recommended the use of **miniforge** instead of Anaconda, that reduces chances of conflicting installations.\n",
    "\n",
    "Conda commands:\n",
    "- `conda env list`\n",
    "- `conda create --name environment_name`\n",
    "- `conda create --name my_env python=3.8`\n",
    "- `conda activate environment_name`\n",
    "- `conda deactivate`\n",
    "- `conda install <package>`"
   ]
  },
  {
   "cell_type": "markdown",
   "metadata": {},
   "source": [
    "## Index\n",
    "* [NumPy Bascs: Arrays and Vectorized Computation](#numpy-bascs-arrays-and-vectorized-computation)\n",
    "* [Data Types for ndarrays](#data-types-for-ndarrays)\n",
    "* []\n"
   ]
  },
  {
   "cell_type": "markdown",
   "metadata": {},
   "source": [
    "## NumPy Bascs: Arrays and Vectorized Computation\n",
    "\n",
    "NumPy arrays use much less memory than bult-in Python sequences. Also, NumPy operations are faster than regular Python code.\n",
    "\n",
    "### NumPy ndarray: Multidimensional Array Object"
   ]
  },
  {
   "cell_type": "code",
   "execution_count": 7,
   "metadata": {},
   "outputs": [
    {
     "name": "stdout",
     "output_type": "stream",
     "text": [
      "[[ 15.  -1.  30.]\n",
      " [  0. -30.  65.]]\n",
      "[[ 3.  -0.2  6. ]\n",
      " [ 0.  -6.  13. ]]\n",
      "(2, 3)\n",
      "float64\n"
     ]
    }
   ],
   "source": [
    "import numpy as np\n",
    "\n",
    "data = np.array([[1.5, -0.1, 3], [0, -3, 6.5]])\n",
    "\n",
    "# You can operate with the values inside the array\n",
    "data \n",
    "print(data*10) \n",
    "print(data+data) \n",
    "\n",
    "# Checknig 'data' shape and dtype \n",
    "print(data.shape) \n",
    "print(data.dtype) \n"
   ]
  },
  {
   "cell_type": "code",
   "execution_count": 17,
   "metadata": {},
   "outputs": [
    {
     "name": "stdout",
     "output_type": "stream",
     "text": [
      "[6.  7.5 8.  0.  1. ]\n",
      "[[1 2 3 4]\n",
      " [5 6 7 8]]\n",
      "The shape is (2, 4)\n",
      "\n",
      "The data-type of Array1 is float64\n",
      "The data-type of Array2 is int32\n",
      "\n",
      "Array with 13 'ones': \n",
      "[1. 1. 1. 1. 1. 1. 1. 1. 1. 1. 1. 1. 1.]\n",
      "Array 3x7 full of 'ones': \n",
      "[[1. 1. 1. 1. 1. 1. 1.]\n",
      " [1. 1. 1. 1. 1. 1. 1.]\n",
      " [1. 1. 1. 1. 1. 1. 1.]]\n",
      "\n",
      "Array 3x4x2 empty: \n",
      "[[[9.86556544e-312 3.16202013e-322]\n",
      "  [0.00000000e+000 0.00000000e+000]]\n",
      "\n",
      " [[1.42413554e-306 3.40712186e+175]\n",
      "  [7.56676808e-067 8.07452209e+169]]\n",
      "\n",
      " [[2.61795352e+180 5.50198861e+170]\n",
      "  [3.29406006e-032 1.29255815e+161]]]\n",
      "\n",
      "Array list of 15 numbers: \n",
      "[ 0  1  2  3  4  5  6  7  8  9 10 11 12 13 14]\n"
     ]
    }
   ],
   "source": [
    "\"\"\"\n",
    "The array function accepts any sequence-like object.\n",
    "numpy.array tries to infer a good data type for the array.\n",
    "\"\"\"\n",
    "data1 = [6, 7.5, 8, 0, 1]\n",
    "arr1 = np.array(data1)\n",
    "print(arr1)\n",
    "\n",
    "# Creating an array 2x4 \n",
    "data2 = [[1,2,3,4], [5,6,7,8]]\n",
    "arr2 = np.array(data2)\n",
    "print(arr2)\n",
    "print(f\"The shape is {arr2.shape}\")\n",
    "\n",
    "# Checking data type\n",
    "print(f\"\\nThe data-type of Array1 is {arr1.dtype}\")\n",
    "print(f\"The data-type of Array2 is {arr2.dtype}\")\n",
    "\n",
    "# Creating arrays full of ones\n",
    "print(f\"\\nArray with 13 'ones': \\n{np.ones(13)}\")\n",
    "print(f\"Array 3x7 full of 'ones': \\n{np.ones((3,7))}\")\n",
    "\n",
    "# Creating new array but empty\n",
    "print(f\"\\nArray 3x4x2 empty: \\n{np.empty((3,2,2))}\")\n",
    "\n",
    "# Creating a range list array (not list(range(15)) )\n",
    "print(f\"\\nArray list of 15 numbers: \\n{np.arange(15)}\")"
   ]
  },
  {
   "cell_type": "markdown",
   "metadata": {},
   "source": [
    "*Some important NumPy array creation functions (McKinney, 2022):*\n",
    "|Function    |Description|\n",
    "|:-----------|:----------|\n",
    "|array| Convert input data (list, tuple, array, or other sequence type) to an ndarray either by inferring a data type or explicitly specifying a data type; copies the input data by default|\n",
    "|asarray| Convert input to ndarray, but do not copy if the input is already an ndarray|\n",
    "|arange| Like the built-in range but returns an ndarray instead of a list|\n",
    "|ones, ones_like|Produce an array of all 1s with the given shape and data type; ones_like takes another array and produces a ones array of the same shape and data type|\n",
    "|zeros, zeros_like|Like ones and ones_like but producing arrays of 0s instead|\n",
    "|empty, empty_like|Create new arrays by allocating new memory, but do not populate with any values like ones and zeros|\n",
    "|full, full_like|Produce an array of the given shape and data type with all values set to the indicated “fill value”; full_like takes another array and produces a filled array of the same shape and data type|\n",
    "|eye, identity |Create a square N × N identity matrix (1s on the diagonal and 0s elsewhere)|"
   ]
  },
  {
   "cell_type": "markdown",
   "metadata": {},
   "source": [
    "#### Data types for ndarrays"
   ]
  },
  {
   "cell_type": "code",
   "execution_count": 24,
   "metadata": {},
   "outputs": [
    {
     "name": "stdout",
     "output_type": "stream",
     "text": [
      "Array1 ([1.11 2.22 3.33]) data type: float64\n",
      "Array2 ([1 2 3]) data type: int32\n",
      "\n",
      "Now array2 ([1. 2. 3.]) data type's: float64\n",
      "Previous ([1.11 2.22 3.33]) with data type 'int64' now is '[1 2 3]', the decimal part has been truncated\n",
      "\n",
      "The array '['12.2' '13.3' '14']' is '<U4' \n",
      "but we can convert it to '[12.2 13.3 14. ] wich is 'float64.\n",
      "And we can use Data type of '[0 1 2 3 4 5 6 7 8 9]' (int32) to convert in 'int32' our '[12 13 14]'.\n"
     ]
    }
   ],
   "source": [
    "# Creating arrays and specifying Data type\n",
    "arr1 = np.array([1.11, 2.22, 3.33], dtype=np.float64)\n",
    "arr2 = np.array([1, 2, 3], dtype=np.int32)\n",
    "\n",
    "print(f\"Array1 ({arr1}) data type: {arr1.dtype}\")\n",
    "print(f\"Array2 ({arr2}) data type: {arr2.dtype}\")\n",
    "\n",
    "# Converting or 'casting' an array from one data tpe to another\n",
    "flo_arr2 = arr2.astype(np.float64)\n",
    "int_arr1 = arr1.astype(np.int64)\n",
    "print(f\"\\nNow array2 ({flo_arr2}) data type's: {flo_arr2.dtype}\")\n",
    "print(f\"Previous ({arr1}) with data type '{int_arr1.dtype}' \" \n",
    "      f\"now is '{int_arr1}', the decimal part has been truncated\")\n",
    "\n",
    "# Numeric string to it's correct numeric form \n",
    "num_srt = [\"12.2\", \"13.3\", \"14\"]\n",
    "int_array = np.arange(10)\n",
    "\n",
    "arr_num_srt = np.array(num_srt)\n",
    "arr_num_flo = arr_num_srt.astype(float)\n",
    "\n",
    "## Taking other array as dtype\n",
    "arr_num_int = arr_num_flo.astype(int_array.dtype)\n",
    "\n",
    "\n",
    "print(f\"\\nThe array '{arr_num_srt}' is '{arr_num_srt.dtype}' \"\n",
    "      f\"\\nbut we can convert it to '{arr_num_flo} wich is '{arr_num_flo.dtype}\"\n",
    "      f\".\\nAnd we can use Data type of '{int_array}' ({int_array.dtype}) to \"\n",
    "      f\"convert in '{arr_num_int.dtype}' our '{arr_num_int}'.\")\n",
    "\n"
   ]
  },
  {
   "cell_type": "markdown",
   "metadata": {},
   "source": [
    "*NumPy data types (McKinney, 2022):*\n",
    "|Type|Type code|Description|\n",
    "|:----|:------:|:---|\n",
    "|int8, unit8  |  i1, u1  |Signed and unsigned 8-bit (1 byte) integer types|\n",
    "|int16, uint16  |  i2, u2  | Signed and unsigned 16-bit integer types|\n",
    "|int32, uint32  |  i4, u4  | Signed and unsigned 32-bit integer types|\n",
    "|int64, uint64  |  i8, u8  | Signed and unsigned 64-bit integer types|\n",
    "|float16  |  f2  | Half-precision floating point|\n",
    "|float32  |  f4 or f  | Standard single-precision floating point; compatible with C float|\n",
    "|float64  |  f8 or d  | Standard double-precision floating point; compatible with C double and Python float object|\n",
    "|float128  |  f16 or g  | Extended-precision floating point|\n",
    "|complex64,  <br> complex128,  <br> complex256  |  c8, c16, c32  | Complex numbers represented by two 32, 64, or 128 floats, respectively|\n",
    "|bool  |  ?  | Boolean type storing True and False values|\n",
    "|object  |  O  | Python object type; a value can be any Python objec|\n",
    "|string_  |  S  |Fixed-length ASCII string type (1 byte per character); for example, to create a string data type with length 10, use 'S10'|\n",
    "|unicode_  |  U  |Fixed-length Unicode type (number of bytes platform specific); same specification semantics as string_ (e.g., 'U10')|\n"
   ]
  },
  {
   "cell_type": "markdown",
   "metadata": {},
   "source": [
    "#### Arithmetic with Numpy Arrays\n",
    "\n",
    "We can do operations in Arrays without *for* loops, NumPy call this *vectorization*."
   ]
  },
  {
   "cell_type": "code",
   "execution_count": 4,
   "metadata": {},
   "outputs": [
    {
     "name": "stdout",
     "output_type": "stream",
     "text": [
      "Array * Array: \n",
      "[[ 1.  4.  9.]\n",
      " [16. 25. 36.]]\n",
      "Array - Array: \n",
      "[[0. 0. 0.]\n",
      " [0. 0. 0.]]\n",
      "Array ^2: \n",
      "[[ 1.  4.  9.]\n",
      " [16. 25. 36.]]\n",
      "\n",
      "Is Array2 greater than Array1?: \n",
      "[[False  True False]\n",
      " [False  True  True]]\n"
     ]
    }
   ],
   "source": [
    "import numpy as np\n",
    "\n",
    "arr = np.array([[1, 2, 3], [4, 5, 6]], dtype=float)\n",
    "\n",
    "print(f\"Array * Array: \\n{arr*arr}\")\n",
    "print(f\"Array - Array: \\n{arr-arr}\")\n",
    "print(f\"Array ^2: \\n{arr**2}\")\n",
    "\n",
    "# You can compare arrays getting booleans as a result\n",
    "arr2 = np.array([[0,5,2], [1, 9,7]])\n",
    "\n",
    "print(f\"\\nIs Array2 greater than Array1?: \\n{arr2 > arr}\")"
   ]
  },
  {
   "cell_type": "markdown",
   "metadata": {},
   "source": [
    "#### Basic Indexing and Slicing\n",
    "\n",
    "Distinction from Python lists: In Arrays, the data is not copied, then any \n",
    "modifications to the view will be reflected, even if it is an Slice.\n",
    "\n",
    "But, you can copy the Slice if you specified that: `arr[5:8].copy()`"
   ]
  },
  {
   "cell_type": "code",
   "execution_count": 7,
   "metadata": {},
   "outputs": [
    {
     "name": "stdout",
     "output_type": "stream",
     "text": [
      "[ 0  1  2  3  4  5  6  7  8  9 10 11]\n",
      "\n",
      "Item 5: 5\n",
      "Items 5 to 8: [5 6 7]\n",
      "We've changed items 5 to 8: [13 13 13]\n",
      "[ 0  1  2  3  4 13 13 13  8  9 10 11]\n"
     ]
    }
   ],
   "source": [
    "# One dimensional Arrays\n",
    "import numpy as np\n",
    "arr1 = np.arange(12)\n",
    "\n",
    "print(arr1)\n",
    "\n",
    "print(f\"\\nItem 5: {arr1[5]}\")\n",
    "print(f\"Items 5 to 8: {arr1[5:8]}\")\n",
    "\n",
    "arr1[5:8] = 13\n",
    "\n",
    "print(f\"We've changed items 5 to 8: {arr1[5:8]}\")\n",
    "print(arr1)"
   ]
  },
  {
   "cell_type": "code",
   "execution_count": 11,
   "metadata": {},
   "outputs": [
    {
     "name": "stdout",
     "output_type": "stream",
     "text": [
      "[ 0  1  2  3  4  5  6  7  8  9 10 11]\n",
      "Here the slice 5 to 8: \n",
      "[5 6 7]\n",
      "First index from slice: 6\n",
      "After changing the index 2 from slice, \n",
      "This is the complete slice: [    5     6 12398]And this is the array: \n",
      "[    0     1     2     3     4     5     6 12398     8     9    10    11]\n"
     ]
    }
   ],
   "source": [
    "# Slicing\n",
    "import numpy as np\n",
    "arr1 = np.arange(12)\n",
    "print(arr1)\n",
    "\n",
    "slice1 = arr1[5:8]\n",
    "print(f\"Here the slice 5 to 8: \\n{slice1}\")\n",
    "print(f\"First index from slice: {slice1[1]}\")\n",
    "\n",
    "# We only change the Slice but affect to the Array\n",
    "slice1[2] = 12398\n",
    "print(f\"\\nAfter changing the index 2 from slice, \"\n",
    "      f\"\\nThis is the complete slice: {slice1}\"\n",
    "      f\"And this is the array: \\n{arr1}\")\n"
   ]
  },
  {
   "cell_type": "code",
   "execution_count": 14,
   "metadata": {},
   "outputs": [
    {
     "name": "stdout",
     "output_type": "stream",
     "text": [
      "2D Array: \n",
      "[[1 2 3]\n",
      " [4 5 6]\n",
      " [7 8 9]]\n",
      "2D Array, index 2: '[7 8 9]'\n",
      "2D Array, index 2 and inside, index 2: '9'\n",
      "\n",
      "3D Array: \n",
      "[[[11. 22. 33.]\n",
      "  [44. 55. 66.]]\n",
      "\n",
      " [[77. 88. 99.]\n",
      "  [10. 11. 12.]]]\n",
      "\n",
      "3D Array, first section (index 0): \n",
      "[[11. 22. 33.]\n",
      " [44. 55. 66.]]\n",
      "Now, it is a 2D array too, we can work easiest this way\n"
     ]
    }
   ],
   "source": [
    "# Bidimensional Array\n",
    "\n",
    "arr2d = np.array([[1,2,3], [4,5,6], [7,8,9]])\n",
    "print(f\"2D Array: \\n{arr2d}\")\n",
    "print(f\"2D Array, index 2: '{arr2d[2]}'\")\n",
    "print(f\"2D Array, index 2 and inside, index 2: '{arr2d[2, 2]}'\")\n",
    "\n",
    "arr3d = np.array([[[11,22,33], [44,55,66]], [[77,88,99], [10.,11.,12.]]])\n",
    "print(f\"\\n3D Array: \\n{arr3d}\")\n",
    "print(f\"\\n3D Array, first section (index 0): \\n{arr3d[0]}\"\n",
    "      \"\\nNow, it is a 2D array too, we can work easiest this way\")"
   ]
  },
  {
   "cell_type": "markdown",
   "metadata": {},
   "source": [
    "##### Indexing with slices"
   ]
  },
  {
   "cell_type": "code",
   "execution_count": 17,
   "metadata": {},
   "outputs": [
    {
     "name": "stdout",
     "output_type": "stream",
     "text": [
      "One dimensional array: \n",
      "'[ 0  1  2  3  4  5  6  7  8  9 10 11]'\n",
      "Selecting indexes 2 to 7: '[2 3 4 5 6]\n",
      "\n",
      "2D Array: \n",
      "[[1 2 3]\n",
      " [4 5 6]\n",
      " [7 8 9]]\n",
      "\n",
      "Selecting the first two rows with [:2]: \n",
      "[[1 2 3]\n",
      " [4 5 6]]\n",
      "\n",
      "Now, selecting [:2, 1:] and maintaining the same dimensions:\n",
      "[[2 3]\n",
      " [5 6]]\n",
      "\n",
      "And only one 'column' with [:, :1]: \n",
      "[[1]\n",
      " [4]\n",
      " [7]]\n"
     ]
    }
   ],
   "source": [
    "arr1 = np.arange(12)\n",
    "print(f\"One dimensional array: \\n'{arr1}'\")\n",
    "print(f\"Selecting indexes 2 to 7: '{arr1[2:7]}\")\n",
    "\n",
    "arr2d = np.array([[1,2,3], [4,5,6], [7,8,9]])\n",
    "print(f\"\\n2D Array: \\n{arr2d}\")\n",
    "print(f\"\\nSelecting the first two rows with [:2]: \\n{arr2d[:2]}\")\n",
    "print(f\"\\nNow, selecting [:2, 1:] and maintaining the same dimensions:\"\n",
    "      f\"\\n{arr2d[:2, 1:]}\")\n",
    "print(f\"\\nAnd only one 'column' with [:, :1]: \\n{arr2d[:, :1]}\")"
   ]
  },
  {
   "cell_type": "markdown",
   "metadata": {},
   "source": [
    "#### Boolean Indexing"
   ]
  },
  {
   "cell_type": "code",
   "execution_count": 8,
   "metadata": {},
   "outputs": [
    {
     "name": "stdout",
     "output_type": "stream",
     "text": [
      "This is names' variable: \n",
      "['Sue' 'Lily' 'Emma' 'Sue' 'Lily' 'Emma' 'Emma']\n",
      "\n",
      "And we are looking for Sue with =='Sue': \n",
      "[ True False False  True False False False]\n",
      "\n",
      "The data corresponding Emma 'data[names==Emma]'is: \n",
      "[[ 5 -9]\n",
      " [ 1  3]\n",
      " [-6  8]]\n",
      "And her index 1 of data is: '[-9  3  8]'\n",
      "\n",
      "Which names are not Lily: [ True False  True  True False  True  True]\n",
      "\n",
      "And not Lily's data: \n",
      "[[ 4 -7]\n",
      " [ 5 -9]\n",
      " [-2  0]\n",
      " [ 1  3]\n",
      " [-6  8]]\n"
     ]
    }
   ],
   "source": [
    "# We'll have names and its data\n",
    "import numpy as np\n",
    "\n",
    "names = np.array([\"Sue\", \"Lily\", \"Emma\", \"Sue\", \"Lily\", \"Emma\", \"Emma\"])\n",
    "\n",
    "data = np.array([[4, -7], [3, 2], [5, -9], [-2, 0], [2,6], [1,3], [-6, 8]])\n",
    "\n",
    "print(f\"This is names' variable: \\n{names}\")\n",
    "print(f\"\\nAnd we are looking for Sue with =='Sue': \\n{names == 'Sue'}\")\n",
    "\n",
    "# Which data corresponds with each name\n",
    "print(f\"\\nThe data corresponding Emma 'data[names==Emma]'\"\n",
    "        f\"is: \\n{data[names=='Emma']}\")\n",
    "print(f\"And her index 1 of data is: '{data[names=='Emma', 1]}'\")\n",
    "\n",
    "# Negative search\n",
    "print(f\"\\nWhich names are not Lily: {names != 'Lily'}\")\n",
    "print(f\"\\nAnd not Lily's data: \\n{data[~(names == 'Lily')]}\")\n",
    "\n",
    "# Selecting various name with '&' (and) and '|' (or)\n",
    "some = (names == \"Lily\") | (names == \"Sue\")\n",
    "print(f\"Names Lily or Sue: '{some}'\")\n",
    "\n",
    "print(f\"Data not Sue and greater than 6: \\n{data[names != \"Sue\"] = 6}\")"
   ]
  },
  {
   "cell_type": "code",
   "execution_count": 11,
   "metadata": {},
   "outputs": [
    {
     "name": "stdout",
     "output_type": "stream",
     "text": [
      "\n",
      "[[0. 0. 0. 0.]\n",
      " [1. 1. 1. 1.]\n",
      " [2. 2. 2. 2.]\n",
      " [3. 3. 3. 3.]\n",
      " [4. 4. 4. 4.]\n",
      " [5. 5. 5. 5.]\n",
      " [6. 6. 6. 6.]\n",
      " [7. 7. 7. 7.]]\n",
      "\n",
      "Array1, 4-3-0-6 indexes: \n",
      "[[4. 4. 4. 4.]\n",
      " [3. 3. 3. 3.]\n",
      " [0. 0. 0. 0.]\n",
      " [6. 6. 6. 6.]]\n",
      "\n",
      "[[ 0  1  2  3  4]\n",
      " [ 5  6  7  8  9]\n",
      " [10 11 12 13 14]\n",
      " [15 16 17 18 19]\n",
      " [20 21 22 23 24]\n",
      " [25 26 27 28 29]\n",
      " [30 31 32 33 34]\n",
      " [35 36 37 38 39]\n",
      " [40 41 42 43 44]]\n",
      "\n",
      "Array2 greater than 24[[False False False False False]\n",
      " [False False False False False]\n",
      " [False False False False False]\n",
      " [False False False False False]\n",
      " [False False False False False]\n",
      " [ True  True  True  True  True]\n",
      " [ True  True  True  True  True]\n",
      " [ True  True  True  True  True]\n",
      " [ True  True  True  True  True]]\n"
     ]
    }
   ],
   "source": [
    "import numpy as np\n",
    "\n",
    "arr = np.zeros((8, 4))\n",
    "\n",
    "for i in range(8):\n",
    "    arr[i] = i\n",
    "\n",
    "print(f\"\\n{arr}\")\n",
    "print(f\"\\nArray1, 4-3-0-6 indexes: \\n{arr[[4, 3, 0, 6]]}\")\n",
    "\n",
    "arr2 = np.arange(45).reshape((9,5))\n",
    "\n",
    "print(f\"\\n{arr2}\")\n",
    "\n",
    "print(f\"\\nArray2 greater than 24{arr2 > 24}\")"
   ]
  },
  {
   "cell_type": "markdown",
   "metadata": {},
   "source": [
    "#### Transposing Arrays and Swapping Axes"
   ]
  }
 ],
 "metadata": {
  "kernelspec": {
   "display_name": "Py11_9",
   "language": "python",
   "name": "python3"
  },
  "language_info": {
   "codemirror_mode": {
    "name": "ipython",
    "version": 3
   },
   "file_extension": ".py",
   "mimetype": "text/x-python",
   "name": "python",
   "nbconvert_exporter": "python",
   "pygments_lexer": "ipython3",
   "version": "3.11.9"
  }
 },
 "nbformat": 4,
 "nbformat_minor": 2
}
