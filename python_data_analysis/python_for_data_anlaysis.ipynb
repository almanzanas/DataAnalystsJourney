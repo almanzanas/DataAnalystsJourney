{
 "cells": [
  {
   "cell_type": "markdown",
   "metadata": {},
   "source": [
    "# Python for Data Analysis\n",
    "\n",
    "McKinney, W. (2022). *Python for Data Analysis: Data Wrangling with Pandas, NumPy, and Jupyter.* O’Reilly Media.\n",
    "\n",
    "Book Materials: https://github.com/wesm/pydata-book <br>\n",
    "Machine Learning in Python: https://scikit-learn.org/stable/  <br>\n",
    "Miniconda: https://docs.conda.io/en/latest/ <br>\n",
    "Conda-Forge: https://conda-forge.org/ <br>\n",
    "\n",
    "Python Libraries:\n",
    "* NumPy\n",
    "* pandas\n",
    "* matplotlib\n",
    "* SciPy\n",
    "* statsmodels\n",
    "\n",
    "Conventions:\n",
    "```python\n",
    "import numpy as np\n",
    "import matplotlib.pyplot as plt\n",
    "import pandas as pd\n",
    "import seaborn as sns\n",
    "import statsmodels as sm\n",
    "```\n",
    "\n",
    "It's recomended to work in other conda's environment. Using alternative environments make it easier to debug problems and ensure the stability of (base) env. Also, It's recommended the use of **miniforge** instead of Anaconda, that reduces chances of conflicting installations.\n",
    "\n",
    "Conda commands:\n",
    "- `conda env list`\n",
    "- `conda create --name environment_name`\n",
    "- `conda create --name my_env python=3.8`\n",
    "- `conda activate environment_name`\n",
    "- `conda deactivate`\n",
    "- `conda install <package>`"
   ]
  },
  {
   "cell_type": "markdown",
   "metadata": {},
   "source": [
    "## Index\n",
    "* [NumPy Bascs: Arrays and Vectorized Computation](#numpy-bascs-arrays-and-vectorized-computation)\n",
    "* [Data Types for ndarrays](#data-types-for-ndarrays)\n",
    "* []\n"
   ]
  },
  {
   "cell_type": "markdown",
   "metadata": {},
   "source": [
    "## NumPy Bascs: Arrays and Vectorized Computation\n",
    "\n",
    "NumPy arrays use much less memory than bult-in Python sequences. Also, NumPy operations are faster than regular Python code.\n",
    "\n",
    "### NumPy ndarray: Multidimensional Array Object"
   ]
  },
  {
   "cell_type": "code",
   "execution_count": 7,
   "metadata": {},
   "outputs": [
    {
     "name": "stdout",
     "output_type": "stream",
     "text": [
      "[[ 15.  -1.  30.]\n",
      " [  0. -30.  65.]]\n",
      "[[ 3.  -0.2  6. ]\n",
      " [ 0.  -6.  13. ]]\n",
      "(2, 3)\n",
      "float64\n"
     ]
    }
   ],
   "source": [
    "import numpy as np\n",
    "\n",
    "data = np.array([[1.5, -0.1, 3], [0, -3, 6.5]])\n",
    "\n",
    "# You can operate with the values inside the array\n",
    "data \n",
    "print(data*10) \n",
    "print(data+data) \n",
    "\n",
    "# Checknig 'data' shape and dtype \n",
    "print(data.shape) \n",
    "print(data.dtype) \n"
   ]
  },
  {
   "cell_type": "code",
   "execution_count": 17,
   "metadata": {},
   "outputs": [
    {
     "name": "stdout",
     "output_type": "stream",
     "text": [
      "[6.  7.5 8.  0.  1. ]\n",
      "[[1 2 3 4]\n",
      " [5 6 7 8]]\n",
      "The shape is (2, 4)\n",
      "\n",
      "The data-type of Array1 is float64\n",
      "The data-type of Array2 is int32\n",
      "\n",
      "Array with 13 'ones': \n",
      "[1. 1. 1. 1. 1. 1. 1. 1. 1. 1. 1. 1. 1.]\n",
      "Array 3x7 full of 'ones': \n",
      "[[1. 1. 1. 1. 1. 1. 1.]\n",
      " [1. 1. 1. 1. 1. 1. 1.]\n",
      " [1. 1. 1. 1. 1. 1. 1.]]\n",
      "\n",
      "Array 3x4x2 empty: \n",
      "[[[9.86556544e-312 3.16202013e-322]\n",
      "  [0.00000000e+000 0.00000000e+000]]\n",
      "\n",
      " [[1.42413554e-306 3.40712186e+175]\n",
      "  [7.56676808e-067 8.07452209e+169]]\n",
      "\n",
      " [[2.61795352e+180 5.50198861e+170]\n",
      "  [3.29406006e-032 1.29255815e+161]]]\n",
      "\n",
      "Array list of 15 numbers: \n",
      "[ 0  1  2  3  4  5  6  7  8  9 10 11 12 13 14]\n"
     ]
    }
   ],
   "source": [
    "\"\"\"\n",
    "The array function accepts any sequence-like object.\n",
    "numpy.array tries to infer a good data type for the array.\n",
    "\"\"\"\n",
    "data1 = [6, 7.5, 8, 0, 1]\n",
    "arr1 = np.array(data1)\n",
    "print(arr1)\n",
    "\n",
    "# Creating an array 2x4 \n",
    "data2 = [[1,2,3,4], [5,6,7,8]]\n",
    "arr2 = np.array(data2)\n",
    "print(arr2)\n",
    "print(f\"The shape is {arr2.shape}\")\n",
    "\n",
    "# Checking data type\n",
    "print(f\"\\nThe data-type of Array1 is {arr1.dtype}\")\n",
    "print(f\"The data-type of Array2 is {arr2.dtype}\")\n",
    "\n",
    "# Creating arrays full of ones\n",
    "print(f\"\\nArray with 13 'ones': \\n{np.ones(13)}\")\n",
    "print(f\"Array 3x7 full of 'ones': \\n{np.ones((3,7))}\")\n",
    "\n",
    "# Creating new array but empty\n",
    "print(f\"\\nArray 3x4x2 empty: \\n{np.empty((3,2,2))}\")\n",
    "\n",
    "# Creating a range list array (not list(range(15)) )\n",
    "print(f\"\\nArray list of 15 numbers: \\n{np.arange(15)}\")"
   ]
  },
  {
   "cell_type": "markdown",
   "metadata": {},
   "source": [
    "*Some important NumPy array creation functions (McKinney, 2022):*\n",
    "|Function    |Description|\n",
    "|:-----------|:----------|\n",
    "|array| Convert input data (list, tuple, array, or other sequence type) to an ndarray either by inferring a data type or explicitly specifying a data type; copies the input data by default|\n",
    "|asarray| Convert input to ndarray, but do not copy if the input is already an ndarray|\n",
    "|arange| Like the built-in range but returns an ndarray instead of a list|\n",
    "|ones, ones_like|Produce an array of all 1s with the given shape and data type; ones_like takes another array and produces a ones array of the same shape and data type|\n",
    "|zeros, zeros_like|Like ones and ones_like but producing arrays of 0s instead|\n",
    "|empty, empty_like|Create new arrays by allocating new memory, but do not populate with any values like ones and zeros|\n",
    "|full, full_like|Produce an array of the given shape and data type with all values set to the indicated “fill value”; full_like takes another array and produces a filled array of the same shape and data type|\n",
    "|eye, identity |Create a square N × N identity matrix (1s on the diagonal and 0s elsewhere)|"
   ]
  },
  {
   "cell_type": "markdown",
   "metadata": {},
   "source": [
    "#### Data types for ndarrays"
   ]
  },
  {
   "cell_type": "code",
   "execution_count": 24,
   "metadata": {},
   "outputs": [
    {
     "name": "stdout",
     "output_type": "stream",
     "text": [
      "Array1 ([1.11 2.22 3.33]) data type: float64\n",
      "Array2 ([1 2 3]) data type: int32\n",
      "\n",
      "Now array2 ([1. 2. 3.]) data type's: float64\n",
      "Previous ([1.11 2.22 3.33]) with data type 'int64' now is '[1 2 3]', the decimal part has been truncated\n",
      "\n",
      "The array '['12.2' '13.3' '14']' is '<U4' \n",
      "but we can convert it to '[12.2 13.3 14. ] wich is 'float64.\n",
      "And we can use Data type of '[0 1 2 3 4 5 6 7 8 9]' (int32) to convert in 'int32' our '[12 13 14]'.\n"
     ]
    }
   ],
   "source": [
    "# Creating arrays and specifying Data type\n",
    "arr1 = np.array([1.11, 2.22, 3.33], dtype=np.float64)\n",
    "arr2 = np.array([1, 2, 3], dtype=np.int32)\n",
    "\n",
    "print(f\"Array1 ({arr1}) data type: {arr1.dtype}\")\n",
    "print(f\"Array2 ({arr2}) data type: {arr2.dtype}\")\n",
    "\n",
    "# Converting or 'casting' an array from one data tpe to another\n",
    "flo_arr2 = arr2.astype(np.float64)\n",
    "int_arr1 = arr1.astype(np.int64)\n",
    "print(f\"\\nNow array2 ({flo_arr2}) data type's: {flo_arr2.dtype}\")\n",
    "print(f\"Previous ({arr1}) with data type '{int_arr1.dtype}' \" \n",
    "      f\"now is '{int_arr1}', the decimal part has been truncated\")\n",
    "\n",
    "# Numeric string to it's correct numeric form \n",
    "num_srt = [\"12.2\", \"13.3\", \"14\"]\n",
    "int_array = np.arange(10)\n",
    "\n",
    "arr_num_srt = np.array(num_srt)\n",
    "arr_num_flo = arr_num_srt.astype(float)\n",
    "\n",
    "## Taking other array as dtype\n",
    "arr_num_int = arr_num_flo.astype(int_array.dtype)\n",
    "\n",
    "\n",
    "print(f\"\\nThe array '{arr_num_srt}' is '{arr_num_srt.dtype}' \"\n",
    "      f\"\\nbut we can convert it to '{arr_num_flo} wich is '{arr_num_flo.dtype}\"\n",
    "      f\".\\nAnd we can use Data type of '{int_array}' ({int_array.dtype}) to \"\n",
    "      f\"convert in '{arr_num_int.dtype}' our '{arr_num_int}'.\")\n",
    "\n"
   ]
  },
  {
   "cell_type": "markdown",
   "metadata": {},
   "source": [
    "*NumPy data types (McKinney, 2022):*\n",
    "|Type|Type code|Description|\n",
    "|:----|:------:|:---|\n",
    "|int8, unit8  |  i1, u1  |Signed and unsigned 8-bit (1 byte) integer types|\n",
    "|int16, uint16  |  i2, u2  | Signed and unsigned 16-bit integer types|\n",
    "|int32, uint32  |  i4, u4  | Signed and unsigned 32-bit integer types|\n",
    "|int64, uint64  |  i8, u8  | Signed and unsigned 64-bit integer types|\n",
    "|float16  |  f2  | Half-precision floating point|\n",
    "|float32  |  f4 or f  | Standard single-precision floating point; compatible with C float|\n",
    "|float64  |  f8 or d  | Standard double-precision floating point; compatible with C double and Python float object|\n",
    "|float128  |  f16 or g  | Extended-precision floating point|\n",
    "|complex64,  <br> complex128,  <br> complex256  |  c8, c16, c32  | Complex numbers represented by two 32, 64, or 128 floats, respectively|\n",
    "|bool  |  ?  | Boolean type storing True and False values|\n",
    "|object  |  O  | Python object type; a value can be any Python objec|\n",
    "|string_  |  S  |Fixed-length ASCII string type (1 byte per character); for example, to create a string data type with length 10, use 'S10'|\n",
    "|unicode_  |  U  |Fixed-length Unicode type (number of bytes platform specific); same specification semantics as string_ (e.g., 'U10')|\n"
   ]
  },
  {
   "cell_type": "markdown",
   "metadata": {},
   "source": [
    "#### Arithmetic with Numpy Arrays\n",
    "\n",
    "We can do operations in Arrays without *for* loops, NumPy call this *vectorization*."
   ]
  },
  {
   "cell_type": "code",
   "execution_count": 4,
   "metadata": {},
   "outputs": [
    {
     "name": "stdout",
     "output_type": "stream",
     "text": [
      "Array * Array: \n",
      "[[ 1.  4.  9.]\n",
      " [16. 25. 36.]]\n",
      "Array - Array: \n",
      "[[0. 0. 0.]\n",
      " [0. 0. 0.]]\n",
      "Array ^2: \n",
      "[[ 1.  4.  9.]\n",
      " [16. 25. 36.]]\n",
      "\n",
      "Is Array2 greater than Array1?: \n",
      "[[False  True False]\n",
      " [False  True  True]]\n"
     ]
    }
   ],
   "source": [
    "import numpy as np\n",
    "\n",
    "arr = np.array([[1, 2, 3], [4, 5, 6]], dtype=float)\n",
    "\n",
    "print(f\"Array * Array: \\n{arr*arr}\")\n",
    "print(f\"Array - Array: \\n{arr-arr}\")\n",
    "print(f\"Array ^2: \\n{arr**2}\")\n",
    "\n",
    "# You can compare arrays getting booleans as a result\n",
    "arr2 = np.array([[0,5,2], [1, 9,7]])\n",
    "\n",
    "print(f\"\\nIs Array2 greater than Array1?: \\n{arr2 > arr}\")"
   ]
  },
  {
   "cell_type": "markdown",
   "metadata": {},
   "source": [
    "#### Basic Indexing and Slicing\n",
    "\n",
    "Distinction from Python lists: In Arrays, the data is not copied, then any \n",
    "modifications to the view will be reflected, even if it is an Slice.\n",
    "\n",
    "But, you can copy the Slice if you specified that: `arr[5:8].copy()`"
   ]
  },
  {
   "cell_type": "code",
   "execution_count": 7,
   "metadata": {},
   "outputs": [
    {
     "name": "stdout",
     "output_type": "stream",
     "text": [
      "[ 0  1  2  3  4  5  6  7  8  9 10 11]\n",
      "\n",
      "Item 5: 5\n",
      "Items 5 to 8: [5 6 7]\n",
      "We've changed items 5 to 8: [13 13 13]\n",
      "[ 0  1  2  3  4 13 13 13  8  9 10 11]\n"
     ]
    }
   ],
   "source": [
    "# One dimensional Arrays\n",
    "import numpy as np\n",
    "arr1 = np.arange(12)\n",
    "\n",
    "print(arr1)\n",
    "\n",
    "print(f\"\\nItem 5: {arr1[5]}\")\n",
    "print(f\"Items 5 to 8: {arr1[5:8]}\")\n",
    "\n",
    "arr1[5:8] = 13\n",
    "\n",
    "print(f\"We've changed items 5 to 8: {arr1[5:8]}\")\n",
    "print(arr1)"
   ]
  },
  {
   "cell_type": "code",
   "execution_count": 11,
   "metadata": {},
   "outputs": [
    {
     "name": "stdout",
     "output_type": "stream",
     "text": [
      "[ 0  1  2  3  4  5  6  7  8  9 10 11]\n",
      "Here the slice 5 to 8: \n",
      "[5 6 7]\n",
      "First index from slice: 6\n",
      "After changing the index 2 from slice, \n",
      "This is the complete slice: [    5     6 12398]And this is the array: \n",
      "[    0     1     2     3     4     5     6 12398     8     9    10    11]\n"
     ]
    }
   ],
   "source": [
    "# Slicing\n",
    "import numpy as np\n",
    "arr1 = np.arange(12)\n",
    "print(arr1)\n",
    "\n",
    "slice1 = arr1[5:8]\n",
    "print(f\"Here the slice 5 to 8: \\n{slice1}\")\n",
    "print(f\"First index from slice: {slice1[1]}\")\n",
    "\n",
    "# We only change the Slice but affect to the Array\n",
    "slice1[2] = 12398\n",
    "print(f\"\\nAfter changing the index 2 from slice, \"\n",
    "      f\"\\nThis is the complete slice: {slice1}\"\n",
    "      f\"And this is the array: \\n{arr1}\")\n"
   ]
  },
  {
   "cell_type": "code",
   "execution_count": 14,
   "metadata": {},
   "outputs": [
    {
     "name": "stdout",
     "output_type": "stream",
     "text": [
      "2D Array: \n",
      "[[1 2 3]\n",
      " [4 5 6]\n",
      " [7 8 9]]\n",
      "2D Array, index 2: '[7 8 9]'\n",
      "2D Array, index 2 and inside, index 2: '9'\n",
      "\n",
      "3D Array: \n",
      "[[[11. 22. 33.]\n",
      "  [44. 55. 66.]]\n",
      "\n",
      " [[77. 88. 99.]\n",
      "  [10. 11. 12.]]]\n",
      "\n",
      "3D Array, first section (index 0): \n",
      "[[11. 22. 33.]\n",
      " [44. 55. 66.]]\n",
      "Now, it is a 2D array too, we can work easiest this way\n"
     ]
    }
   ],
   "source": [
    "# Bidimensional Array\n",
    "\n",
    "arr2d = np.array([[1,2,3], [4,5,6], [7,8,9]])\n",
    "print(f\"2D Array: \\n{arr2d}\")\n",
    "print(f\"2D Array, index 2: '{arr2d[2]}'\")\n",
    "print(f\"2D Array, index 2 and inside, index 2: '{arr2d[2, 2]}'\")\n",
    "\n",
    "arr3d = np.array([[[11,22,33], [44,55,66]], [[77,88,99], [10.,11.,12.]]])\n",
    "print(f\"\\n3D Array: \\n{arr3d}\")\n",
    "print(f\"\\n3D Array, first section (index 0): \\n{arr3d[0]}\"\n",
    "      \"\\nNow, it is a 2D array too, we can work easiest this way\")"
   ]
  },
  {
   "cell_type": "markdown",
   "metadata": {},
   "source": [
    "##### Indexing with slices"
   ]
  },
  {
   "cell_type": "code",
   "execution_count": 17,
   "metadata": {},
   "outputs": [
    {
     "name": "stdout",
     "output_type": "stream",
     "text": [
      "One dimensional array: \n",
      "'[ 0  1  2  3  4  5  6  7  8  9 10 11]'\n",
      "Selecting indexes 2 to 7: '[2 3 4 5 6]\n",
      "\n",
      "2D Array: \n",
      "[[1 2 3]\n",
      " [4 5 6]\n",
      " [7 8 9]]\n",
      "\n",
      "Selecting the first two rows with [:2]: \n",
      "[[1 2 3]\n",
      " [4 5 6]]\n",
      "\n",
      "Now, selecting [:2, 1:] and maintaining the same dimensions:\n",
      "[[2 3]\n",
      " [5 6]]\n",
      "\n",
      "And only one 'column' with [:, :1]: \n",
      "[[1]\n",
      " [4]\n",
      " [7]]\n"
     ]
    }
   ],
   "source": [
    "arr1 = np.arange(12)\n",
    "print(f\"One dimensional array: \\n'{arr1}'\")\n",
    "print(f\"Selecting indexes 2 to 7: '{arr1[2:7]}\")\n",
    "\n",
    "arr2d = np.array([[1,2,3], [4,5,6], [7,8,9]])\n",
    "print(f\"\\n2D Array: \\n{arr2d}\")\n",
    "print(f\"\\nSelecting the first two rows with [:2]: \\n{arr2d[:2]}\")\n",
    "print(f\"\\nNow, selecting [:2, 1:] and maintaining the same dimensions:\"\n",
    "      f\"\\n{arr2d[:2, 1:]}\")\n",
    "print(f\"\\nAnd only one 'column' with [:, :1]: \\n{arr2d[:, :1]}\")"
   ]
  },
  {
   "cell_type": "markdown",
   "metadata": {},
   "source": [
    "#### Boolean Indexing"
   ]
  },
  {
   "cell_type": "code",
   "execution_count": 8,
   "metadata": {},
   "outputs": [
    {
     "name": "stdout",
     "output_type": "stream",
     "text": [
      "This is names' variable: \n",
      "['Sue' 'Lily' 'Emma' 'Sue' 'Lily' 'Emma' 'Emma']\n",
      "\n",
      "And we are looking for Sue with =='Sue': \n",
      "[ True False False  True False False False]\n",
      "\n",
      "The data corresponding Emma 'data[names==Emma]'is: \n",
      "[[ 5 -9]\n",
      " [ 1  3]\n",
      " [-6  8]]\n",
      "And her index 1 of data is: '[-9  3  8]'\n",
      "\n",
      "Which names are not Lily: [ True False  True  True False  True  True]\n",
      "\n",
      "And not Lily's data: \n",
      "[[ 4 -7]\n",
      " [ 5 -9]\n",
      " [-2  0]\n",
      " [ 1  3]\n",
      " [-6  8]]\n"
     ]
    }
   ],
   "source": [
    "# We'll have names and its data\n",
    "import numpy as np\n",
    "\n",
    "names = np.array([\"Sue\", \"Lily\", \"Emma\", \"Sue\", \"Lily\", \"Emma\", \"Emma\"])\n",
    "\n",
    "data = np.array([[4, -7], [3, 2], [5, -9], [-2, 0], [2,6], [1,3], [-6, 8]])\n",
    "\n",
    "print(f\"This is names' variable: \\n{names}\")\n",
    "print(f\"\\nAnd we are looking for Sue with =='Sue': \\n{names == 'Sue'}\")\n",
    "\n",
    "# Which data corresponds with each name\n",
    "print(f\"\\nThe data corresponding Emma 'data[names==Emma]'\"\n",
    "        f\"is: \\n{data[names=='Emma']}\")\n",
    "print(f\"And her index 1 of data is: '{data[names=='Emma', 1]}'\")\n",
    "\n",
    "# Negative search\n",
    "print(f\"\\nWhich names are not Lily: {names != 'Lily'}\")\n",
    "print(f\"\\nAnd not Lily's data: \\n{data[~(names == 'Lily')]}\")\n",
    "\n",
    "# Selecting various name with '&' (and) and '|' (or)\n",
    "some = (names == \"Lily\") | (names == \"Sue\")\n",
    "print(f\"Names Lily or Sue: '{some}'\")\n",
    "\n",
    "print(f\"Data not Sue and greater than 6: \\n{data[names != \"Sue\"] = 6}\")"
   ]
  },
  {
   "cell_type": "code",
   "execution_count": 11,
   "metadata": {},
   "outputs": [
    {
     "name": "stdout",
     "output_type": "stream",
     "text": [
      "\n",
      "[[0. 0. 0. 0.]\n",
      " [1. 1. 1. 1.]\n",
      " [2. 2. 2. 2.]\n",
      " [3. 3. 3. 3.]\n",
      " [4. 4. 4. 4.]\n",
      " [5. 5. 5. 5.]\n",
      " [6. 6. 6. 6.]\n",
      " [7. 7. 7. 7.]]\n",
      "\n",
      "Array1, 4-3-0-6 indexes: \n",
      "[[4. 4. 4. 4.]\n",
      " [3. 3. 3. 3.]\n",
      " [0. 0. 0. 0.]\n",
      " [6. 6. 6. 6.]]\n",
      "\n",
      "[[ 0  1  2  3  4]\n",
      " [ 5  6  7  8  9]\n",
      " [10 11 12 13 14]\n",
      " [15 16 17 18 19]\n",
      " [20 21 22 23 24]\n",
      " [25 26 27 28 29]\n",
      " [30 31 32 33 34]\n",
      " [35 36 37 38 39]\n",
      " [40 41 42 43 44]]\n",
      "\n",
      "Array2 greater than 24[[False False False False False]\n",
      " [False False False False False]\n",
      " [False False False False False]\n",
      " [False False False False False]\n",
      " [False False False False False]\n",
      " [ True  True  True  True  True]\n",
      " [ True  True  True  True  True]\n",
      " [ True  True  True  True  True]\n",
      " [ True  True  True  True  True]]\n"
     ]
    }
   ],
   "source": [
    "import numpy as np\n",
    "\n",
    "arr = np.zeros((8, 4))\n",
    "\n",
    "for i in range(8):\n",
    "    arr[i] = i\n",
    "\n",
    "print(f\"\\n{arr}\")\n",
    "print(f\"\\nArray1, 4-3-0-6 indexes: \\n{arr[[4, 3, 0, 6]]}\")\n",
    "\n",
    "arr2 = np.arange(45).reshape((9,5))\n",
    "\n",
    "print(f\"\\n{arr2}\")\n",
    "\n",
    "print(f\"\\nArray2 greater than 24{arr2 > 24}\")"
   ]
  },
  {
   "cell_type": "markdown",
   "metadata": {},
   "source": [
    "#### Transposing Arrays and Swapping Axes"
   ]
  },
  {
   "cell_type": "code",
   "execution_count": 6,
   "metadata": {},
   "outputs": [
    {
     "name": "stdout",
     "output_type": "stream",
     "text": [
      "[[ 0  1  2  3  4]\n",
      " [ 5  6  7  8  9]\n",
      " [10 11 12 13 14]]\n",
      "\n",
      "[[ 0  5 10]\n",
      " [ 1  6 11]\n",
      " [ 2  7 12]\n",
      " [ 3  8 13]\n",
      " [ 4  9 14]]\n",
      "\n",
      "[[ 0  5 10]\n",
      " [ 1  6 11]\n",
      " [ 2  7 12]\n",
      " [ 3  8 13]\n",
      " [ 4  9 14]]\n",
      "\n",
      "Let's do some matrix multiplications with '.dot' and '@':\n",
      "[[125 140 155 170 185]\n",
      " [140 158 176 194 212]\n",
      " [155 176 197 218 239]\n",
      " [170 194 218 242 266]\n",
      " [185 212 239 266 293]]\n",
      "\n",
      "[[125 140 155 170 185]\n",
      " [140 158 176 194 212]\n",
      " [155 176 197 218 239]\n",
      " [170 194 218 242 266]\n",
      " [185 212 239 266 293]]\n"
     ]
    }
   ],
   "source": [
    "import numpy as np\n",
    "\n",
    "arr1 = np.arange(15).reshape((3,5))\n",
    "\n",
    "print(arr1)\n",
    "\n",
    "print(f\"\\n{arr1.T}\")\n",
    "\n",
    "print(f\"\\n{arr1.swapaxes(0,1)}\")\n",
    "\n",
    "print(f\"\\nLet's do some matrix multiplications with '.dot' and '@':\"\n",
    "      f\"\\n{arr1.T @ arr1}\\n\\n{np.dot(arr1.T, arr1)}\")"
   ]
  },
  {
   "cell_type": "markdown",
   "metadata": {},
   "source": [
    "### Pseudorandom Number Generation\n",
    "\n",
    "numpy.random module generate whole arrays efficently from many kind of \n",
    "distributions.\n",
    "\n",
    "*NumPy random number generator methods (McKinney, 2022)*\n",
    "|Method|Description|\n",
    "|---|----|\n",
    "|permutation| Return a random permutation of a sequence, or return a permuted range|\n",
    "|shuffle| Randomly permute a sequence in place|\n",
    "|uniform |Draw samples from a uniform distribution|\n",
    "|integers| Draw random integers from a given low-to-high range|\n",
    "|standard_normal| Draw samples from a normal distribution with mean 0 and standard deviation 1|\n",
    "|binomial| Draw samples from a binomial distribution|\n",
    "|normal| Draw samples from a normal (Gaussian) distribution|\n",
    "|beta| Draw samples from a beta distribution|\n",
    "|chisquare| Draw samples from a chi-square distribution|\n",
    "|gamma| Draw samples from a gamma distribution|\n",
    "|uniform| Draw samples from a uniform [0, 1) distribution|"
   ]
  },
  {
   "cell_type": "code",
   "execution_count": 12,
   "metadata": {},
   "outputs": [
    {
     "name": "stdout",
     "output_type": "stream",
     "text": [
      "[[-4.20324002e-01  1.35638465e-01 -1.61992523e+00  2.02284215e-01]\n",
      " [ 7.19578155e-01  1.69026240e+00  6.07609145e-01 -2.03233757e-01]\n",
      " [-1.10622306e+00 -1.21135912e+00  1.12011466e+00 -2.43123571e-02]\n",
      " [ 4.29393371e-01 -1.50909012e+00 -1.81308728e+00 -2.00916097e-01]\n",
      " [-1.98883164e+00 -8.36184067e-01 -3.36292353e-01 -1.27165181e+00]\n",
      " [ 1.95624108e+00  1.78038097e-04  4.71250763e-01 -8.78552832e-01]]\n"
     ]
    }
   ],
   "source": [
    "import numpy as np \n",
    "\n",
    "samples = np.random.standard_normal(size=(6,4))\n",
    "\n",
    "print(f\"{samples}\")"
   ]
  },
  {
   "cell_type": "code",
   "execution_count": 8,
   "metadata": {},
   "outputs": [
    {
     "name": "stdout",
     "output_type": "stream",
     "text": [
      "[[0.38175573 0.09851949 0.63587688]\n",
      " [0.14532276 0.71669867 0.5631418 ]]\n"
     ]
    }
   ],
   "source": [
    "import numpy as np \n",
    "\"\"\"\n",
    "    The argument 'seed' dtermines the initial state of the generator, and each\n",
    "    time is used, changes.\n",
    "\n",
    "\"\"\"\n",
    "rng = np.random.default_rng(seed=5864669)\n",
    "\n",
    "data = rng.standard_normal((2,3))\n",
    "\n",
    "print(f\"{data}\")"
   ]
  },
  {
   "cell_type": "markdown",
   "metadata": {},
   "source": [
    "### Universal Functions: Fast Element-Wise Array Functions\n",
    "\n",
    "A *ufunc* (Universal Function) performs element-wise operations on data in ndarrays.\n",
    "\n",
    "*Some functions:*\n",
    "|Function|Description|\n",
    "|---|---|\n",
    "|abs, fabs| Compute the absolute value element-wise for integer, floating-point, or complex values|\n",
    "|sign| Compute the sign of each element: 1 (positive), 0 (zero), or –1 (negative)|\n",
    "|isnan| Return Boolean array indicating whether each value is NaN (Not a Number)|\n",
    "|---|---|\n",
    "|add| Add corresponding elements in arrays|\n",
    "|subtract| Subtract elements in second array from first array|\n",
    "|maximum,<br> fmax| Element-wise maximum; fmax ignores NaN|\n",
    "|minimum,<br> fmin| Element-wise minimum; fmin ignores NaN|\n",
    "|greater, <br>greater_equal, <br>less, <br>less_equal,<br> equal, <br> not_equal |Perform element-wise comparison, yielding Boolean array (equivalent to infix operators >, >=, <, <=, ==, !=)|\n"
   ]
  },
  {
   "cell_type": "code",
   "execution_count": 12,
   "metadata": {},
   "outputs": [
    {
     "name": "stdout",
     "output_type": "stream",
     "text": [
      "[ 5  6  7  8  9 10 11 12 13 14 15 16 17 18 19 20]\n",
      "\n",
      "[2.23606798 2.44948974 2.64575131 2.82842712 3.         3.16227766\n",
      " 3.31662479 3.46410162 3.60555128 3.74165739 3.87298335 4.\n",
      " 4.12310563 4.24264069 4.35889894 4.47213595]\n",
      "\n",
      "X values are: \n",
      "[-0.74816084 -0.77603615  0.68327199  1.28370432 -0.68344335  0.74444709\n",
      "  0.94578006 -0.48237732]\n",
      "and Y values:\n",
      "[-0.57429412 -0.61424723 -0.36088497 -1.51370555 -0.13421366  1.46031289\n",
      " -1.61741783  0.17897458]\n",
      "\n",
      "Between X and Y, maximun values are:\n",
      "[-0.57429412 -0.61424723  0.68327199  1.28370432 -0.13421366  1.46031289\n",
      "  0.94578006  0.17897458]\n",
      "\n",
      "Output: \n",
      "[ 6  7  8  9 10 11 12 13 14 15 16 17 18 19 20 21]\n"
     ]
    }
   ],
   "source": [
    "arr = np.arange(5,21)\n",
    "\n",
    "print(f\"{arr}\")\n",
    "\n",
    "print(f\"\\n{np.sqrt(arr)}\")\n",
    "\n",
    "x = rng.standard_normal(8)\n",
    "y = rng.standard_normal(8)\n",
    "\n",
    "print(f\"\\nX values are: \\n{x}\\nand Y values:\\n{y}\")\n",
    "print(f\"\\nBetween X and Y, maximun values are:\\n{np.maximum(x,y)}\")\n",
    "\n",
    "# We can specified an output for ufuncs with 'out' argument and asign \n",
    "# the results into an existing array\n",
    "\n",
    "out = np.zeros_like(arr)\n",
    "\n",
    "np.add(arr, 1)\n",
    "np.add(arr, 1, out=out)\n",
    "\n",
    "print(f\"\\nOutput: \\n{out}\")"
   ]
  },
  {
   "cell_type": "markdown",
   "metadata": {},
   "source": [
    "### Array-Priented Programming with Arrays\n",
    "\n"
   ]
  },
  {
   "cell_type": "code",
   "execution_count": 16,
   "metadata": {},
   "outputs": [
    {
     "name": "stdout",
     "output_type": "stream",
     "text": [
      "[[7.07106781 7.06400028 7.05693985 ... 7.04988652 7.05693985 7.06400028]\n",
      " [7.06400028 7.05692568 7.04985815 ... 7.04279774 7.04985815 7.05692568]\n",
      " [7.05693985 7.04985815 7.04278354 ... 7.03571603 7.04278354 7.04985815]\n",
      " ...\n",
      " [7.04988652 7.04279774 7.03571603 ... 7.0286414  7.03571603 7.04279774]\n",
      " [7.05693985 7.04985815 7.04278354 ... 7.03571603 7.04278354 7.04985815]\n",
      " [7.06400028 7.05692568 7.04985815 ... 7.04279774 7.04985815 7.05692568]]\n"
     ]
    },
    {
     "data": {
      "image/png": "[encoded data removed]",
      "text/plain": [
       "<Figure size 640x480 with 2 Axes>"
      ]
     },
     "metadata": {},
     "output_type": "display_data"
    }
   ],
   "source": [
    "import numpy as np\n",
    "import matplotlib.pyplot as plt\n",
    "\n",
    "points = np.arange(-5, 5, 0.01)\n",
    "\n",
    "xs, ys = np.meshgrid(points, points) # meshgrid takes two one-dimensional\n",
    "# arrays and produces two two-dimensional matrices\n",
    "\n",
    "z = np.sqrt(xs**2 + ys**2)\n",
    "print(f\"{z}\")\n",
    "\n",
    "# Visualization\n",
    "\n",
    "plt.imshow(z, cmap=plt.cm.grey, extent=[-5, 5, -5, 5])\n",
    "plt.colorbar()\n",
    "plt.title(\"Image plot of $\\sqrt{x^2 + y^2}$ for a grid of values\")\n",
    "plt.show()"
   ]
  },
  {
   "cell_type": "markdown",
   "metadata": {},
   "source": [
    "#### Expressing Conditional Logic as Array Operations\n",
    "\n",
    "With `np.where(conditional, xarray, yarray)` we take a value of one array or another if the conditional is True. We can use that to overwrite values, e.g. whether the number is positive we write 2 and negative we write -2"
   ]
  },
  {
   "cell_type": "code",
   "execution_count": 20,
   "metadata": {},
   "outputs": [
    {
     "name": "stdout",
     "output_type": "stream",
     "text": [
      "X-Array: \n",
      "[1.1 1.3 1.5 1.7 1.9]\n",
      "Y-Array: \n",
      "[2.1 2.3 2.5 2.7 2.9]\n",
      "Condition: \n",
      "[ True False  True  True False]\n",
      "\n",
      "Result: \n",
      "[1.1 2.3 1.5 1.7 2.9]\n",
      "\n",
      "Random Array: \n",
      "[[-1.40253634  0.45462133 -1.27662241 -0.30563769]\n",
      " [-1.25891288  0.46052032 -0.30775935  0.76198379]\n",
      " [-0.72420566  0.18842059  0.19350286 -1.76853775]\n",
      " [ 1.95725009  0.10459295  0.06819672  0.68626764]]\n",
      "\n",
      "Array boolean conversion: \n",
      "[[False  True False False]\n",
      " [False  True False  True]\n",
      " [False  True  True False]\n",
      " [ True  True  True  True]]\n",
      "\n",
      "Where true = 2, false = -2: \n",
      "[[-2  2 -2 -2]\n",
      " [-2  2 -2  2]\n",
      " [-2  2  2 -2]\n",
      " [ 2  2  2  2]]\n",
      "\n",
      "Where true = 2, false = same number: \n",
      "[[-1.40253634  2.         -1.27662241 -0.30563769]\n",
      " [-1.25891288  2.         -0.30775935  2.        ]\n",
      " [-0.72420566  2.          2.         -1.76853775]\n",
      " [ 2.          2.          2.          2.        ]]\n"
     ]
    }
   ],
   "source": [
    "xarr = np.arange(1.1, 2, 0.2)\n",
    "yarr = np.arange(2.1, 3, 0.2)\n",
    "cond = np.array([True, False, True, True, False])\n",
    "\n",
    "print(f\"X-Array: \\n{xarr}\")\n",
    "print(f\"Y-Array: \\n{yarr}\")\n",
    "print(f\"Condition: \\n{cond}\")\n",
    "print(f\"\\nResult: \\n{np.where(cond, xarr, yarr)}\")\n",
    "\n",
    "# overwriting numbers:\n",
    "arr = rng.standard_normal((4,4))\n",
    "print(f\"\\nRandom Array: \\n{arr}\")\n",
    "print(f\"\\nArray boolean conversion: \\n{arr > 0}\")\n",
    "print(f\"\\nWhere true = 2, false = -2: \\n{np.where(arr > 0, 2, -2)}\")\n",
    "print(f\"\\nWhere true = 2, false = same number: \\n{np.where(arr > 0, 2, arr)}\")"
   ]
  },
  {
   "cell_type": "markdown",
   "metadata": {},
   "source": [
    "#### Matematical and Statistical Methods\n",
    "\n",
    "|Method|Description|\n",
    "|---|---|\n",
    "|sum| Sum of all the elements in the array or along an axis; zero-length arrays have sum 0|\n",
    "|mean| Arithmetic mean; invalid (returns NaN) on zero-length arrays|\n",
    "|std, var| Standard deviation and variance, respectively|\n",
    "|min, max| Minimum and maximum|\n",
    "|argmin, argmax| Indices of minimum and maximum elements, respectively|\n",
    "|cumsum| Cumulative sum of elements starting from 0|\n",
    "|cumprod| Cumulative product of elements starting from 1|\n",
    "\n",
    "In multidimensional arrays, `cumsum(axis=0)` compute the cumulative sum along the rows, while `cumsum(axis=1)` is along the columns. This axis selection works too with `mean()` and `sum()`.\n",
    "\n",
    "#### Methods for Boolean Arrays\n",
    "\n",
    "We can `sum()` to count True values, e.g. `(arr > 0).sum()` print us the number of positive values. Also, the method `all()` will be true if every boolean value is True, thus `any()` will be true whether any value is True. Any and All works too with non-boolean arrays, where nonzero elements are **True**.\n",
    "\n",
    "#### Sorting\n",
    "\n",
    "With `sort()` method we can sort one dimensional arrays and specifying axis we sort the columns or rows. We can get a sorted copy of an array instead modifying the array:\n",
    "```python\n",
    "arr = np.array([2, -5, 9, 8, -5, -1, 6])\n",
    "sort_arr = np.sort(arr)\n",
    "print(sort_arr)\n",
    "```\n",
    "\n",
    "#### Unique and Other set logic\n",
    "\n",
    "|Method|Descrption|\n",
    "|---|---|\n",
    "|unique(x) |Compute the sorted, unique elements in x|\n",
    "|intersect1d(x, y) |Compute the sorted, common elements in x and y|\n",
    "|union1d(x, y) |Compute the sorted union of elements|\n",
    "|in1d(x, y) |Compute a Boolean array indicating whether each element of x is contained in y|\n",
    "|setdiff1d(x, y) |Set difference, elements in x that are not in y|\n",
    "|setxor1d(x, y) |Set symmetric differences; elements that are in either of the arrays, but not both|\n",
    "\n",
    "`numpy.unique()` return the sorted unique values in an array. `numpy.in1d()` return True or False whether a value in one array is in another."
   ]
  },
  {
   "cell_type": "markdown",
   "metadata": {},
   "source": [
    "### Fle input and output with arrays\n",
    "\n",
    "If we want to save and load the arrays, we can use `np.save()`/`np.savez()`/`np_savez_compressed()` and `np.load()` to do that.\n",
    "```python\n",
    "arr = arange(18)\n",
    "np.save(\"array_file_name\", arr)\n",
    "# saving multiple arrays without and with compression, specifying format npz\n",
    "np.savez(\"array_file.npz\", a=arr1, b=arr2)\n",
    "np.savez_compressed(\"array_file.npz\", a=arr1, b=arr2)\n",
    "# Loading array file, specifying the path and format\n",
    "np.load(\"array_file_name.npy\")\n",
    "```"
   ]
  },
  {
   "cell_type": "markdown",
   "metadata": {},
   "source": [
    "### Linear Algebra\n",
    "\n",
    "|Function|Description|\n",
    "|---|---|\n",
    "|diag |Return the diagonal (or off-diagonal) elements of a square matrix as a 1D array, or convert a 1D array into a square matrix with zeros on the off-diagonal|\n",
    "|dot |Matrix multiplication|\n",
    "|trace |Compute the sum of the diagonal elements|\n",
    "|det |Compute the matrix determinant|\n",
    "|eig |Compute the eigenvalues and eigenvectors of a square matrix|\n",
    "|inv |Compute the inverse of a square matrix|\n",
    "|pinv |Compute the Moore-Penrose pseudoinverse of a matrix|\n",
    "|qr |Compute the QR decomposition|\n",
    "|svd |Compute the singular value decomposition (SVD)|\n",
    "|solve |Solve the linear system Ax = b for x, where A is a square matrix|\n",
    "|lstsq |Compute the least-squares solution to Ax = b|"
   ]
  },
  {
   "cell_type": "markdown",
   "metadata": {},
   "source": [
    "### Random Walks"
   ]
  },
  {
   "cell_type": "code",
   "execution_count": 2,
   "metadata": {},
   "outputs": [
    {
     "data": {
      "text/plain": [
       "[<matplotlib.lines.Line2D at 0x1757b2fb050>]"
      ]
     },
     "execution_count": 2,
     "metadata": {},
     "output_type": "execute_result"
    },
    {
     "data": {
      "image/png": "[encoded data removed]",
      "text/plain": [
       "<Figure size 640x480 with 1 Axes>"
      ]
     },
     "metadata": {},
     "output_type": "display_data"
    }
   ],
   "source": [
    "import numpy as np\n",
    "import matplotlib.pyplot as plt\n",
    "import random\n",
    "\n",
    "position = 0\n",
    "random_walk = [position]\n",
    "nsteps = 10_000\n",
    "for _ in range(nsteps):\n",
    "    step = 1 if random.randint(0, 1) else -1 \n",
    "    position += step \n",
    "    random_walk.append(position)\n",
    "\n",
    "plt.plot(random_walk)"
   ]
  },
  {
   "cell_type": "code",
   "execution_count": 3,
   "metadata": {},
   "outputs": [
    {
     "name": "stdout",
     "output_type": "stream",
     "text": [
      "Minimum value: -10\n",
      "\n",
      "Maximum value: 192\n"
     ]
    },
    {
     "data": {
      "text/plain": [
       "[<matplotlib.lines.Line2D at 0x1750005a150>]"
      ]
     },
     "execution_count": 3,
     "metadata": {},
     "output_type": "execute_result"
    },
    {
     "data": {
      "image/png": "[encoded data removed]",
      "text/plain": [
       "<Figure size 640x480 with 1 Axes>"
      ]
     },
     "metadata": {},
     "output_type": "display_data"
    }
   ],
   "source": [
    "import numpy as np\n",
    "import matplotlib.pyplot as plt\n",
    "import random\n",
    "\n",
    "nsteps = 10_000\n",
    "rng = np.random.default_rng(seed=28328324)\n",
    "draws = rng.integers(0, 2, size=nsteps)\n",
    "steps = np.where(draws == 0, 1, -1)\n",
    "random_walk = steps.cumsum()\n",
    "\n",
    "print(f\"Minimum value: {random_walk.min()}\")\n",
    "print(f\"\\nMaximum value: {random_walk.max()}\")\n",
    "\n",
    "plt.plot(random_walk)"
   ]
  },
  {
   "cell_type": "code",
   "execution_count": 20,
   "metadata": {},
   "outputs": [
    {
     "name": "stdout",
     "output_type": "stream",
     "text": [
      "[-0.10598732 -0.43926578 -1.29596598 ... -0.66814143 -0.88039666\n",
      " -0.81176081]\n"
     ]
    }
   ],
   "source": [
    "import numpy as np\n",
    "import matplotlib.pyplot as plt\n",
    "import random\n",
    "\n",
    "nsteps = np.arange(10000)\n",
    "rng = np.random.default_rng(seed=84692)\n",
    "x = np.array([])\n",
    "y = np.array([])\n",
    "size=(-2,2)\n",
    "\n",
    "for step in nsteps:\n",
    "    value = rng.standard_normal((1))\n",
    "    x= np.append(x, value)\n",
    "\n",
    "print(x)\n",
    "\n"
   ]
  }
 ],
 "metadata": {
  "kernelspec": {
   "display_name": "Py11_9",
   "language": "python",
   "name": "python3"
  },
  "language_info": {
   "codemirror_mode": {
    "name": "ipython",
    "version": 3
   },
   "file_extension": ".py",
   "mimetype": "text/x-python",
   "name": "python",
   "nbconvert_exporter": "python",
   "pygments_lexer": "ipython3",
   "version": "3.11.9"
  }
 },
 "nbformat": 4,
 "nbformat_minor": 2
}
