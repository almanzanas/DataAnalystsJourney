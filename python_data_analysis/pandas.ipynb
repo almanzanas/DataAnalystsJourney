{
 "cells": [
  {
   "cell_type": "markdown",
   "metadata": {},
   "source": [
    "# Getting Started with pandas\n",
    "\n",
    "Pandas will make data cleaning and analysis fast in python. It's designed for working with tabular or heterogeneous data. \n",
    "\n",
    "Conventions:```python\n",
    "import numpy as np\n",
    "import pandas as pd\n",
    "```\n",
    "\n",
    "## Index"
   ]
  },
  {
   "cell_type": "markdown",
   "metadata": {},
   "source": [
    "## Introduction to pandas Data Structures\n",
    "\n",
    "### Series\n",
    "\n",
    "Series is a one-dimensional array-like object containing a sequence of values asociated to a data labels (index)."
   ]
  },
  {
   "cell_type": "code",
   "execution_count": 10,
   "metadata": {},
   "outputs": [
    {
     "name": "stdout",
     "output_type": "stream",
     "text": [
      "0    6\n",
      "1    2\n",
      "2   -3\n",
      "3    9\n",
      "dtype: int64\n",
      "\n",
      "0    6\n",
      "1    2\n",
      "2   -3\n",
      "3    9\n",
      "dtype: int64\n",
      "RangeIndex(start=10, stop=50, step=10)\n",
      "Object n30: -6\n",
      "Greater than 0: \n",
      "10     True\n",
      "20     True\n",
      "30    False\n",
      "40     True\n",
      "dtype: bool\n",
      "And filtering rows: \n",
      "10    5\n",
      "20    3\n",
      "40    8\n",
      "dtype: int64\n",
      "\n",
      "Is index 55 in obj2? \n",
      "False\n"
     ]
    }
   ],
   "source": [
    "import pandas as pd\n",
    "\n",
    "obj = pd.Series([6, 2, -3, 9])\n",
    "print(obj)\n",
    "\n",
    "obj2 = pd.Series([5, 3, -6, 8], index=range(10, 50, 10))\n",
    "print(f\"\\n{obj}\")\n",
    "print(f\"{obj2.index}\")\n",
    "print(f\"Object n30: {obj2[30]}\")\n",
    "print(f\"Greater than 0: \\n{obj2 > 0}\"\n",
    "      # Aplying a filter\n",
    "      f\"\\nAnd filtering rows: \\n{obj2[obj2 > 0]}\")\n",
    "# Operations like NumPy\n",
    "print(f\"\\nIs index 55 in obj2? \\n{55 in obj2}\")"
   ]
  },
  {
   "cell_type": "code",
   "execution_count": 15,
   "metadata": {},
   "outputs": [
    {
     "name": "stdout",
     "output_type": "stream",
     "text": [
      "Ohio      35000\n",
      "Texas     71000\n",
      "Oregon    16000\n",
      "Utah       5000\n",
      "dtype: int64\n",
      "\n",
      "{'Ohio': 35000, 'Texas': 71000, 'Oregon': 16000, 'Utah': 5000}\n",
      "\n",
      "California        NaN\n",
      "Ohio          35000.0\n",
      "Oregon        16000.0\n",
      "Texas         71000.0\n",
      "dtype: float64\n",
      "\n",
      "Looking for missing data: \n",
      "California     True\n",
      "Ohio          False\n",
      "Oregon        False\n",
      "Texas         False\n",
      "dtype: bool\n",
      "\n",
      "Looking for NOT missing data: \n",
      "California    False\n",
      "Ohio           True\n",
      "Oregon         True\n",
      "Texas          True\n",
      "dtype: bool\n",
      "\n",
      "Filtering missing data: \n",
      "California   NaN\n",
      "dtype: float64\n",
      "Obj3 + Obj4: \n",
      "California         NaN\n",
      "Ohio           70000.0\n",
      "Oregon         32000.0\n",
      "Texas         142000.0\n",
      "Utah               NaN\n",
      "dtype: float64\n",
      "Obj4 with name attribute: \n",
      "state\n",
      "California        NaN\n",
      "Ohio          35000.0\n",
      "Oregon        16000.0\n",
      "Texas         71000.0\n",
      "Name: population, dtype: float64\n"
     ]
    }
   ],
   "source": [
    "import pandas as pd\n",
    "\n",
    "dict = {\"Ohio\": 35000, \"Texas\": 71000, \"Oregon\": 16000, \"Utah\": 5000}\n",
    "# Dictionary to pandas Series\n",
    "obj3 = pd.Series(dict)\n",
    "\n",
    "print(f\"{obj3}\")\n",
    "# pandas Series to dictionary\n",
    "print(f\"\\n{obj3.to_dict()}\")\n",
    "\n",
    "# Specifying the index (with miss data)\n",
    "states = [\"California\", \"Ohio\", \"Oregon\", \"Texas\"]\n",
    "obj4 = pd.Series(dict, index=states)\n",
    "print(f\"\\n{obj4}\") \n",
    "# Missing data as NaN (Not a Number)\n",
    "# Utah has data but is excluded from 'obj4' because the index\n",
    "\n",
    "print(f\"\\nLooking for missing data: \\n{pd.isna(obj4)}\")\n",
    "print(f\"\\nLooking for NOT missing data: \\n{pd.notna(obj4)}\")\n",
    "# Getting rows with missing data\n",
    "print(f\"\\nFiltering missing data: \\n{obj4[obj4.isna()]}\")\n",
    "\n",
    "# We can do arithmetic operations with two Series, \n",
    "# and automaticaly it aligns the index\n",
    "print(f\"Obj3 + Obj4: \\n{obj3 + obj4}\")\n",
    "\n",
    "# atribute naming for Series\n",
    "obj4.name = \"population\"\n",
    "obj4.index.name = \"state\"\n",
    "print(f\"Obj4 with name attribute: \\n{obj4}\")"
   ]
  },
  {
   "cell_type": "markdown",
   "metadata": {},
   "source": [
    "### DataFrame\n",
    "\n",
    "A DataFrame is a table of data wutg irdered and named collection of collumns that can be different value type and it has both a row and column index. You can create a DataFrame with a dictionary of equal length lists or NumPy arrays.\n",
    "\n",
    "Asigning new values to a column in the DataFrame, the new data in the Series or Array must match the length of the dataframe. If we assign a Series, it's labels will be realigned to the DataFrame's index, inserting missing values in any index values not present."
   ]
  },
  {
   "cell_type": "code",
   "execution_count": 21,
   "metadata": {},
   "outputs": [
    {
     "name": "stdout",
     "output_type": "stream",
     "text": [
      "   year   state  pop\n",
      "0  2000    Ohio  1.5\n",
      "1  2001    Ohio  1.7\n",
      "2  2002    Ohio  3.6\n",
      "3  2001  Nevada  2.4\n",
      "4  2002  Nevada  2.9\n",
      "5  2003  Nevada  3.2\n",
      "6  2002  Oregon  2.4\n",
      "7  2003  Oregon  3.1\n",
      "8  2004   Texas  3.3\n",
      "9  2005   Texas  2.9\n",
      "\n",
      "   year   state  pop\n",
      "0  2000    Ohio  1.5\n",
      "1  2001    Ohio  1.7\n",
      "2  2002    Ohio  3.6\n",
      "3  2001  Nevada  2.4\n",
      "4  2002  Nevada  2.9\n",
      "\n",
      "   year   state  pop\n",
      "5  2003  Nevada  3.2\n",
      "6  2002  Oregon  2.4\n",
      "7  2003  Oregon  3.1\n",
      "8  2004   Texas  3.3\n",
      "9  2005   Texas  2.9\n"
     ]
    }
   ],
   "source": [
    "import pandas as pd\n",
    "from pandas import DataFrame\n",
    "\n",
    "data = {\n",
    "    \"state\": [\"Ohio\", \"Ohio\", \"Ohio\", \"Nevada\", \"Nevada\", \"Nevada\", \"Oregon\",\n",
    "              \"Oregon\", \"Texas\", \"Texas\",],\n",
    "    \"year\": [2000, 2001, 2002, 2001, 2002, 2003, 2002, 2003, 2004, 2005],\n",
    "    \"pop\": [1.5, 1.7, 3.6, 2.4, 2.9, 3.2, 2.4, 3.1, 3.3, 2.9]\n",
    "    }\n",
    "\n",
    "# We can define columns order making the DataFrame\n",
    "df = DataFrame(data, columns=[\"year\", \"state\", \"pop\"])\n",
    "print(f\"{df}\")\n",
    "\n",
    "# For large DataFrame, we can see the first 5 rows with 'head()'\n",
    "print(f\"\\n{df.head()}\")\n",
    "# And we can see the las 5 rows with 'tail()'\n",
    "print(f\"\\n{df.tail()}\")"
   ]
  },
  {
   "cell_type": "code",
   "execution_count": 3,
   "metadata": {},
   "outputs": [
    {
     "name": "stdout",
     "output_type": "stream",
     "text": [
      "Columns df2: Index(['year', 'state', 'pop', 'debt'], dtype='object')\n",
      "States: \n",
      "0      Ohio\n",
      "1      Ohio\n",
      "2      Ohio\n",
      "3    Nevada\n",
      "4    Nevada\n",
      "5    Nevada\n",
      "6    Oregon\n",
      "7    Oregon\n",
      "8     Texas\n",
      "9     Texas\n",
      "Name: state, dtype: object\n",
      "Printing years: \n",
      "0    2000\n",
      "1    2001\n",
      "2    2002\n",
      "3    2001\n",
      "4    2002\n",
      "5    2003\n",
      "6    2002\n",
      "7    2003\n",
      "8    2004\n",
      "9    2005\n",
      "Name: year, dtype: int64\n",
      "\n",
      "Retrieving by position: \n",
      "year     2002\n",
      "state    Ohio\n",
      "pop       3.6\n",
      "debt      NaN\n",
      "Name: 2, dtype: object\n"
     ]
    }
   ],
   "source": [
    "import pandas as pd\n",
    "\n",
    "data = {\n",
    "    \"state\": [\"Ohio\", \"Ohio\", \"Ohio\", \"Nevada\", \"Nevada\", \"Nevada\", \"Oregon\",\n",
    "              \"Oregon\", \"Texas\", \"Texas\",],\n",
    "    \"year\": [2000, 2001, 2002, 2001, 2002, 2003, 2002, 2003, 2004, 2005],\n",
    "    \"pop\": [1.5, 1.7, 3.6, 2.4, 2.9, 3.2, 2.4, 3.1, 3.3, 2.9]\n",
    "    }\n",
    "\n",
    "# Adding an extra column for missing data\n",
    "df2 = pd.DataFrame(data, columns=[\"year\", \"state\", \"pop\", \"debt\"])\n",
    "print(f\"Columns df2: {df2.columns}\")\n",
    "print(f\"States: \\n{df2['state']}\"\n",
    "      f\"\\nPrinting years: \\n{df2.year}\")\n",
    "print(f\"\\nRetrieving by position: \\n{df2.iloc[2]}\")"
   ]
  },
  {
   "cell_type": "code",
   "execution_count": 16,
   "metadata": {},
   "outputs": [
    {
     "name": "stdout",
     "output_type": "stream",
     "text": [
      "   year   state  pop  debt  eastern\n",
      "0  2000    Ohio  1.5   1.0     True\n",
      "1  2001    Ohio  1.7   2.0     True\n",
      "2  2002    Ohio  3.6   3.0     True\n",
      "3  2001  Nevada  2.4   4.0    False\n",
      "4  2002  Nevada  2.9   5.0    False\n",
      "5  2003  Nevada  3.2   6.0    False\n",
      "6  2002  Oregon  2.4   7.0    False\n",
      "7  2003  Oregon  3.1   8.0    False\n",
      "8  2004   Texas  3.3   9.0    False\n",
      "9  2005   Texas  2.9  10.0    False\n",
      "\n",
      "Deleting 'eastern' column: Index(['year', 'state', 'pop', 'debt'], dtype='object')\n"
     ]
    }
   ],
   "source": [
    "import pandas as pd\n",
    "import numpy as np\n",
    "\n",
    "data = {\n",
    "    \"state\": [\"Ohio\", \"Ohio\", \"Ohio\", \"Nevada\", \"Nevada\", \"Nevada\", \"Oregon\",\n",
    "              \"Oregon\", \"Texas\", \"Texas\",],\n",
    "    \"year\": [2000, 2001, 2002, 2001, 2002, 2003, 2002, 2003, 2004, 2005],\n",
    "    \"pop\": [1.5, 1.7, 3.6, 2.4, 2.9, 3.2, 2.4, 3.1, 3.3, 2.9]\n",
    "    }\n",
    "df2 = pd.DataFrame(data, columns=[\"year\", \"state\", \"pop\", \"debt\"])\n",
    "\n",
    "# Modifying 'debt' column with array \n",
    "df2[\"debt\"] = np.arange(1.,11.0)\n",
    "\n",
    "# Creating a 'eastern' column for 'Ohio', as boolean\n",
    "df2[\"eastern\"] = df2[\"state\"] == \"Ohio\"\n",
    "print(f\"{df2}\")\n",
    "\n",
    "# Removing \"eastern\" column\n",
    "del df2[\"eastern\"]\n",
    "print(f\"\\nDeleting 'eastern' column: {df2.columns}\")\n",
    "\n",
    "\"\"\"\n",
    "    The column returned from indexing a DataFrame is a 'view', not a copy, \n",
    "    thus in-place modifications to Seres will be reflected in the DataFrame.\n",
    "    The column can be copied with 'copy' method from Series.\n",
    "\"\"\""
   ]
  },
  {
   "cell_type": "markdown",
   "metadata": {},
   "source": [
    "p.138(152)"
   ]
  }
 ],
 "metadata": {
  "kernelspec": {
   "display_name": "Py11_9",
   "language": "python",
   "name": "python3"
  },
  "language_info": {
   "codemirror_mode": {
    "name": "ipython",
    "version": 3
   },
   "file_extension": ".py",
   "mimetype": "text/x-python",
   "name": "python",
   "nbconvert_exporter": "python",
   "pygments_lexer": "ipython3",
   "version": "3.11.9"
  }
 },
 "nbformat": 4,
 "nbformat_minor": 2
}
