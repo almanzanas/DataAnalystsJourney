{
 "cells": [
  {
   "cell_type": "markdown",
   "metadata": {},
   "source": [
    "# Downloading Data\n",
    "\n",
    "Matthes, E. (2023). 16 Downloading Data. In *Python Crash Course* (3rd ed.). No Starch Press.\n",
    "\n",
    "Resources: https://github.com/ehmatthes/pcc_3e/tree/main\n",
    "\n",
    "## Index\n",
    "\n"
   ]
  },
  {
   "cell_type": "code",
   "execution_count": null,
   "metadata": {},
   "outputs": [],
   "source": []
  }
 ],
 "metadata": {
  "language_info": {
   "name": "python"
  }
 },
 "nbformat": 4,
 "nbformat_minor": 2
}
