{
 "cells": [
  {
   "cell_type": "markdown",
   "metadata": {},
   "source": [
    "# Working with APIs\n",
    "\n",
    "We'll write a program that generates a visualization based on data it retrieves. It will use an API or *application programming interface* to automaticaly request information from a website and use that to generate a visualization.\n",
    "\n",
    "## Index\n",
    "\n",
    "* [Using an API](#using-an-api)\n",
    "    * [Requesting Data using an API call](#requesting-data-using-an-api-call)\n",
    "    * [Installing Requests](#installing-requests)\n",
    "    * [Processing an API Response](#processing-an-api-response)\n",
    "    * [Summarizing the Top Repositories](#summarizing-the-top-repositories)\n",
    "* [Visualizing Repositories Using Plotly](#visualizing-repositories-using-plotly)\n",
    "* [Hacker News API](#hacker-news-api)\n",
    "* [Working with API's Exercises](#working-with-apis-exercises)\n",
    "* [Schematic Summary](#schematic-summary)"
   ]
  },
  {
   "cell_type": "markdown",
   "metadata": {},
   "source": [
    "## Using an API\n",
    "\n",
    "We'll write a program to download information about th emost-starred Python projects on GitHub, and we'll create a visualization with this information.\n",
    "\n",
    "### Requesting Data Using an API Call\n",
    "\n",
    "This is what an API call looks like, inside the link you can see the response:<br>\n",
    "https://api.github.com/search/repositories?q=language:python+sort:stars \n",
    "\n",
    "- *https://api.github.com/* directs the request to GitHub's API.\n",
    "- *search/repositories/* conducts the search through all the repositories.\n",
    "- *?* means that later we are going to pass an argument.\n",
    "- *q=* the equal lets us begin specifying a query.\n",
    "- *language:python* we specified repositories that have Python as primary language.\n",
    "- *+sort:stars* sorts the prohect by the number of stars.\n",
    "\n",
    "### Installing Requests\n",
    "\n",
    "We need the `Requests` package to easily request information from a website and examine the response.\n",
    "```python\n",
    "python -m pip install --user requests\n",
    "```\n",
    "\n",
    "### Processing an API Response\n"
   ]
  },
  {
   "cell_type": "code",
   "execution_count": 4,
   "metadata": {},
   "outputs": [
    {
     "name": "stdout",
     "output_type": "stream",
     "text": [
      "Request succesfull! Code: 200\n",
      "dict_keys(['total_count', 'incomplete_results', 'items'])\n"
     ]
    }
   ],
   "source": [
    "import requests\n",
    "\n",
    "## API call\n",
    "url = \"https://api.github.com/search/repositories?q=language:python+stars:>10000&sort=stars&order=desc\"\n",
    "\n",
    "response = requests.get(url) # Making the call\n",
    "\n",
    "if response.status_code == 200:\n",
    "    print(f\"Request succesfull! Code: {response.status_code}\")\n",
    "else:\n",
    "    print(f\"Something go wrong... Status code: {response.status_code}\")\n",
    "\n",
    "# Convert the response to a dictionary\n",
    "data = response.json()\n",
    "\n",
    "# Process resuts\n",
    "print(data.keys())"
   ]
  },
  {
   "cell_type": "markdown",
   "metadata": {},
   "source": [
    "### Working with the Response Dictionary\n"
   ]
  },
  {
   "cell_type": "code",
   "execution_count": 9,
   "metadata": {},
   "outputs": [
    {
     "name": "stdout",
     "output_type": "stream",
     "text": [
      "Request succesfull! Code: 200\n",
      "Total repositories: 39\n",
      "Complete results: True\n",
      "Repositories returned: 30\n",
      "\n",
      "Selected information about first repository:\n",
      "Name: rails\n",
      "Owner: rails\n",
      "Stars: 54980\n",
      "Repository: https://github.com/rails/rails\n",
      "Created: 2008-04-11T02:19:47Z\n",
      "Updated: 2024-05-21T14:58:17Z\n",
      "Description: Ruby on Rails\n"
     ]
    }
   ],
   "source": [
    "import requests\n",
    "\n",
    "## API call\n",
    "url = \"https://api.github.com/search/repositories?q=language:ruby+stars:>10000&sort=stars&order=desc\"\n",
    "\n",
    "response = requests.get(url) # Making the call\n",
    "\n",
    "if response.status_code == 200:\n",
    "    print(f\"Request succesfull! Code: {response.status_code}\")\n",
    "else:\n",
    "    print(f\"Something go wrong... Status code: {response.status_code}\")\n",
    "\n",
    "# Convert the response to a dictionary\n",
    "data = response.json()\n",
    "\n",
    "print(f\"Total repositories: {data['total_count']}\")\n",
    "print(f\"Complete results: {not data['incomplete_results']}\") \n",
    "# With incomplete_results we know if github was able to fully process the query\n",
    "\n",
    "# Information about the repositories\n",
    "repo_datas = data['items'] # items is a list with the number of repositories\n",
    "print(f\"Repositories returned: {len(repo_datas)}\")\n",
    "\n",
    "## Examine first repo\n",
    "repo_data = repo_datas[0]\n",
    "#print(f\"\\nKeys: {len(repo_data)}\")\n",
    "#for key in sorted(repo_data.keys()):\n",
    "#    print(key)\n",
    "\n",
    "# Extracting more detailed info:\n",
    "print(\"\\nSelected information about first repository:\")\n",
    "print(f\"Name: {repo_data['name']}\")\n",
    "print(f\"Owner: {repo_data['owner']['login']}\")\n",
    "print(f\"Stars: {repo_data['stargazers_count']}\")\n",
    "print(f\"Repository: {repo_data['html_url']}\")\n",
    "print(f\"Created: {repo_data['created_at']}\")\n",
    "print(f\"Updated: {repo_data['updated_at']}\")\n",
    "print(f\"Description: {repo_data['description']}\")"
   ]
  },
  {
   "cell_type": "markdown",
   "metadata": {},
   "source": [
    "### Summarizing the Top Repositories"
   ]
  },
  {
   "cell_type": "code",
   "execution_count": 6,
   "metadata": {},
   "outputs": [
    {
     "name": "stdout",
     "output_type": "stream",
     "text": [
      "Request succesfull! Code: 200\n",
      "Total repositories: 493\n",
      "Complete results: True\n",
      "Repositories returned: 30\n",
      "\n",
      "\tSelected information about each repository\n",
      "\n",
      "Selected information about first repository:\n",
      "Name: public-apis\n",
      "Owner: public-apis\n",
      "Stars: 294219\n",
      "Repository: https://github.com/public-apis/public-apis\n",
      "Created: 2016-03-20T23:49:42Z\n",
      "Updated: 2024-05-21T15:14:57Z\n",
      "Description: A collective list of free APIs\n",
      "\n",
      "Selected information about first repository:\n",
      "Name: system-design-primer\n",
      "Owner: donnemartin\n",
      "Stars: 257869\n",
      "Repository: https://github.com/donnemartin/system-design-primer\n",
      "Created: 2017-02-26T16:15:28Z\n",
      "Updated: 2024-05-21T15:15:19Z\n",
      "Description: Learn how to design large-scale systems. Prep for the system design interview.  Includes Anki flashcards.\n",
      "\n",
      "Selected information about first repository:\n",
      "Name: awesome-python\n",
      "Owner: vinta\n",
      "Stars: 207439\n",
      "Repository: https://github.com/vinta/awesome-python\n",
      "Created: 2014-06-27T21:00:06Z\n",
      "Updated: 2024-05-21T15:15:45Z\n",
      "Description: An opinionated list of awesome Python frameworks, libraries, software and resources.\n",
      "\n",
      "Selected information about first repository:\n",
      "Name: Python\n",
      "Owner: TheAlgorithms\n",
      "Stars: 180626\n",
      "Repository: https://github.com/TheAlgorithms/Python\n",
      "Created: 2016-07-16T09:44:01Z\n",
      "Updated: 2024-05-21T14:53:14Z\n",
      "Description: All Algorithms implemented in Python\n",
      "\n",
      "Selected information about first repository:\n",
      "Name: Python-100-Days\n",
      "Owner: jackfrued\n",
      "Stars: 150710\n",
      "Repository: https://github.com/jackfrued/Python-100-Days\n",
      "Created: 2018-03-01T16:05:52Z\n",
      "Updated: 2024-05-21T15:19:31Z\n",
      "Description: Python - 100天从新手到大师\n",
      "\n",
      "Selected information about first repository:\n",
      "Name: stable-diffusion-webui\n",
      "Owner: AUTOMATIC1111\n",
      "Stars: 131687\n",
      "Repository: https://github.com/AUTOMATIC1111/stable-diffusion-webui\n",
      "Created: 2022-08-22T14:05:26Z\n",
      "Updated: 2024-05-21T15:11:30Z\n",
      "Description: Stable Diffusion web UI\n",
      "\n",
      "Selected information about first repository:\n",
      "Name: youtube-dl\n",
      "Owner: ytdl-org\n",
      "Stars: 128966\n",
      "Repository: https://github.com/ytdl-org/youtube-dl\n",
      "Created: 2010-10-31T14:35:07Z\n",
      "Updated: 2024-05-21T13:22:42Z\n",
      "Description: Command-line program to download videos from YouTube.com and other video sites\n",
      "\n",
      "Selected information about first repository:\n",
      "Name: transformers\n",
      "Owner: huggingface\n",
      "Stars: 126398\n",
      "Repository: https://github.com/huggingface/transformers\n",
      "Created: 2018-10-29T13:56:00Z\n",
      "Updated: 2024-05-21T15:10:48Z\n",
      "Description: 🤗 Transformers: State-of-the-art Machine Learning for Pytorch, TensorFlow, and JAX.\n",
      "\n",
      "Selected information about first repository:\n",
      "Name: HelloGitHub\n",
      "Owner: 521xueweihan\n",
      "Stars: 85720\n",
      "Repository: https://github.com/521xueweihan/HelloGitHub\n",
      "Created: 2016-05-04T06:24:11Z\n",
      "Updated: 2024-05-21T14:33:10Z\n",
      "Description: :octocat: 分享 GitHub 上有趣、入门级的开源项目。Share interesting, entry-level open source projects on GitHub.\n"
     ]
    }
   ],
   "source": [
    "import requests\n",
    "\n",
    "## API call\n",
    "url = \"https://api.github.com/search/repositories?q=language:python+stars:>10000&sort=stars&order=desc\"\n",
    "\n",
    "response = requests.get(url) # Making the call\n",
    "\n",
    "if response.status_code == 200:\n",
    "    print(f\"Request succesfull! Code: {response.status_code}\")\n",
    "else:\n",
    "    print(f\"Something go wrong... Status code: {response.status_code}\")\n",
    "\n",
    "# Convert the response to a dictionary\n",
    "data = response.json()\n",
    "\n",
    "print(f\"Total repositories: {data['total_count']}\")\n",
    "print(f\"Complete results: {not data['incomplete_results']}\") \n",
    "\n",
    "# Information about the repositories\n",
    "repo_datas = data['items']\n",
    "print(f\"Repositories returned: {len(repo_datas)}\")\n",
    "\n",
    "# Extracting more detailed info:\n",
    "print(\"\\n\\tSelected information about each repository\")\n",
    "for repo_data in repo_datas[:9]:\n",
    "    print(\"\\nSelected information about first repository:\")\n",
    "    print(f\"Name: {repo_data['name']}\")\n",
    "    print(f\"Owner: {repo_data['owner']['login']}\")\n",
    "    print(f\"Stars: {repo_data['stargazers_count']}\")\n",
    "    print(f\"Repository: {repo_data['html_url']}\")\n",
    "    print(f\"Created: {repo_data['created_at']}\")\n",
    "    print(f\"Updated: {repo_data['updated_at']}\")\n",
    "    print(f\"Description: {repo_data['description']}\")"
   ]
  },
  {
   "cell_type": "markdown",
   "metadata": {},
   "source": [
    "## Visualizing Repositories Using Plotly\n"
   ]
  },
  {
   "cell_type": "code",
   "execution_count": 1,
   "metadata": {},
   "outputs": [
    {
     "name": "stdout",
     "output_type": "stream",
     "text": [
      "Request succesfull! Code: 200\n",
      "Complete results: True\n"
     ]
    },
    {
     "data": {
      "image/png": "[encoded data removed]",
      "text/plain": [
       "<IPython.core.display.Image object>"
      ]
     },
     "execution_count": 1,
     "metadata": {},
     "output_type": "execute_result"
    }
   ],
   "source": [
    "import requests\n",
    "import plotly.express as px\n",
    "from IPython.display import display, Image\n",
    "\n",
    "## API call\n",
    "url = \"https://api.github.com/search/repositories?q=language:python+stars:>65000&sort=stars&order=desc\"\n",
    "\n",
    "response = requests.get(url)\n",
    "\n",
    "# Checking Status Code\n",
    "if response.status_code == 200:\n",
    "    print(f\"Request succesfull! Code: {response.status_code}\")\n",
    "else:\n",
    "    print(f\"Something go wrong... Status code: {response.status_code}\")\n",
    "\n",
    "# Process results\n",
    "data = response.json()\n",
    "print(f\"Complete results: {not data['incomplete_results']}\")\n",
    "\n",
    "# Process information. Name to repo-link and hover with description.\n",
    "repo_datas = data[\"items\"]\n",
    "repo_names = [f\"<a href='{repo_data['html_url']}'>{repo_data['name']}</a>\" for repo_data in repo_datas]\n",
    "repo_stars = [repo_data[\"stargazers_count\"] for repo_data in repo_datas]\n",
    "\n",
    "# Hover Text\n",
    "hover_texts = [f\"{repo_data['owner']['login']} <br />{repo_data['description']}\" for repo_data in repo_datas]\n",
    "\n",
    "# Visualization\n",
    "title = \"Top Python projects\"\n",
    "labels = {\"x\":\"Name\",\"y\":\"Stars\"}\n",
    "fig = px.bar(x=repo_names, y=repo_stars, labels=labels, title=title, hover_name=hover_texts)\n",
    "\n",
    "fig.update_layout(title_font_size=20, xaxis_title_font_size=16, yaxis_title_font_size=16)\n",
    "fig.update_traces(marker_color=repo_stars, marker_colorscale=\"inferno\", marker_opacity=0.8)\n",
    "\n",
    "#fig.show()\n",
    "Image(fig.to_image(format='png'))"
   ]
  },
  {
   "cell_type": "markdown",
   "metadata": {},
   "source": [
    "## Hacker News API\n",
    "\n"
   ]
  },
  {
   "cell_type": "code",
   "execution_count": 20,
   "metadata": {},
   "outputs": [
    {
     "name": "stdout",
     "output_type": "stream",
     "text": [
      "Request succesfull! Code: 200\n",
      "{\n",
      "    \"by\": \"sohkamyung\",\n",
      "    \"descendants\": 307,\n",
      "    \"id\": 31353677,\n",
      "    \"kids\": [\n",
      "        31354987,\n",
      "        31354235,\n",
      "        31354040,\n",
      "        31358602,\n",
      "        31354201,\n",
      "        31354991,\n",
      "        31354315,\n",
      "        31353775,\n",
      "        31353925,\n",
      "        31354169,\n",
      "        31354273,\n",
      "        31354437,\n",
      "        31356902,\n",
      "        31358694,\n",
      "        31363418,\n",
      "        31353862,\n",
      "        31357186,\n",
      "        31356379,\n",
      "        31356826,\n",
      "        31355085,\n",
      "        31369435,\n",
      "        31357936,\n",
      "        31354142,\n",
      "        31354213,\n",
      "        31356311,\n",
      "        31357865,\n",
      "        31353929,\n",
      "        31364954,\n",
      "        31354621,\n",
      "        31356002,\n",
      "        31356407,\n",
      "        31355491,\n",
      "        31359235,\n",
      "        31356053,\n",
      "        31354347,\n",
      "        31355326,\n",
      "        31354703,\n",
      "        31353802\n",
      "    ],\n",
      "    \"score\": 786,\n",
      "    \"time\": 1652361401,\n",
      "    \"title\": \"Astronomers reveal first image of the black hole at the heart of our galaxy\",\n",
      "    \"type\": \"story\",\n",
      "    \"url\": \"https://public.nrao.edu/news/astronomers-reveal-first-image-of-the-black-hole-at-the-heart-of-our-galaxy/\"\n",
      "}\n"
     ]
    }
   ],
   "source": [
    "import requests \n",
    "import json \n",
    "\n",
    "# API Call\n",
    "url = \"https://hacker-news.firebaseio.com/v0/item/31353677.json\"\n",
    "data = requests.get(url)\n",
    "\n",
    "# Checking Status Code\n",
    "if response.status_code == 200:\n",
    "    print(f\"Request succesfull! Code: {response.status_code}\")\n",
    "else:\n",
    "    print(f\"Something go wrong... Status code: {response.status_code}\")\n",
    "\n",
    "# Exploring structure\n",
    "response_dict = data.json()\n",
    "response_string = json.dumps(response_dict, indent=4)\n",
    "print(response_string)"
   ]
  },
  {
   "cell_type": "code",
   "execution_count": 4,
   "metadata": {},
   "outputs": [
    {
     "name": "stdout",
     "output_type": "stream",
     "text": [
      "Request succesfull! Code: 200\n",
      "id: 40428386\tstatus: 200\n",
      "id: 40429326\tstatus: 200\n",
      "id: 40427973\tstatus: 200\n",
      "id: 40429200\tstatus: 200\n",
      "id: 40426442\tstatus: 200\n",
      "\n",
      "Title: What UI density means and how to design for it\n",
      "Discussion link: https://news.ycombinator.com/item?id=40428386\n",
      "Comments: 30\n",
      "\n",
      "Title: Gifski: Optimized GIF Encoder\n",
      "Discussion link: https://news.ycombinator.com/item?id=40426442\n",
      "Comments: 27\n",
      "\n",
      "Title: 40-Year old BASICA utility code for teaching\n",
      "Discussion link: https://news.ycombinator.com/item?id=40427973\n",
      "Comments: 11\n",
      "\n",
      "Title: Show HN: I built a game to help you learn neural network architectures\n",
      "Discussion link: https://news.ycombinator.com/item?id=40429200\n",
      "Comments: 2\n",
      "\n",
      "Title: Anthropic: Mapping the Mind of a Large Language Model\n",
      "Discussion link: https://news.ycombinator.com/item?id=40429326\n",
      "Comments: 1\n"
     ]
    }
   ],
   "source": [
    "from operator import itemgetter \n",
    "import requests \n",
    "\n",
    "# API call\n",
    "url = \"https://hacker-news.firebaseio.com/v0/topstories.json\"\n",
    "data = requests.get(url)\n",
    "\n",
    "# Checking Status Code\n",
    "if response.status_code == 200:\n",
    "    print(f\"Request succesfull! Code: {response.status_code}\")\n",
    "else:\n",
    "    print(f\"Something go wrong... Status code: {response.status_code}\")\n",
    "\n",
    "submission_ids = data.json()\n",
    "\n",
    "submission_dicts = []\n",
    "for submission_id in submission_ids[:5]:\n",
    "    # New API call for each submission\n",
    "    url = f\"https://hacker-news.firebaseio.com/v0/item/{submission_id}.json\"\n",
    "    r = requests.get(url)\n",
    "    print(f\"id: {submission_id}\\tstatus: {r.status_code}\")\n",
    "    response_dict = r.json()\n",
    "\n",
    "    # Build diccionary for each article\n",
    "    submission_dict = {\n",
    "        'title': response_dict['title'],\n",
    "        'hn_link': f\"https://news.ycombinator.com/item?id={submission_id}\",\n",
    "        'comments': response_dict['descendants'],\n",
    "    }\n",
    "    submission_dicts.append(submission_dict)\n",
    "\n",
    "# Sort with 'itemgetter' by the number of comments in reverse order\n",
    "submission_dicts = sorted(submission_dicts, key=itemgetter('comments'), reverse=True)\n",
    "\n",
    "for submission_dict in submission_dicts:\n",
    "    print(f\"\\nTitle: {submission_dict['title']}\")\n",
    "    print(f\"Discussion link: {submission_dict['hn_link']}\")\n",
    "    print(f\"Comments: {submission_dict['comments']}\")\n"
   ]
  },
  {
   "cell_type": "markdown",
   "metadata": {},
   "source": [
    "## Working with API's Exercises\n",
    "\n",
    "Try another visualization with diferent languajes using GitHub's API. Be creative."
   ]
  },
  {
   "cell_type": "code",
   "execution_count": 12,
   "metadata": {},
   "outputs": [
    {
     "name": "stdout",
     "output_type": "stream",
     "text": [
      "Request succesfull for python! Code: 200\n",
      "\n",
      "Complete results python: True\n",
      "Request succesfull for ruby! Code: 200\n",
      "\n",
      "Complete results ruby: True\n",
      "Request succesfull for javascript! Code: 200\n",
      "\n",
      "Complete results javascript: True\n",
      "Request succesfull for java! Code: 200\n",
      "\n",
      "Complete results java: True\n",
      "Request succesfull for go! Code: 200\n",
      "\n",
      "Complete results go: True\n",
      "Request succesfull for csharp! Code: 200\n",
      "\n",
      "Complete results csharp: True\n"
     ]
    },
    {
     "data": {
      "application/vnd.plotly.v1+json": {
       "config": {
        "plotlyServerURL": "https://plot.ly"
       },
       "data": [
        {
         "domain": {
          "x": [
           0,
           1
          ],
          "y": [
           0,
           1
          ]
         },
         "hovertemplate": "Languages=%{label}<br>Repositores=%{value}<extra></extra>",
         "labels": [
          "python",
          "ruby",
          "javascript",
          "java",
          "go",
          "csharp"
         ],
         "legendgroup": "",
         "name": "",
         "showlegend": true,
         "type": "pie",
         "values": [
          492,
          39,
          596,
          216,
          284,
          62
         ]
        }
       ],
       "layout": {
        "height": 720,
        "legend": {
         "tracegroupgap": 0
        },
        "template": {
         "data": {
          "bar": [
           {
            "error_x": {
             "color": "#2a3f5f"
            },
            "error_y": {
             "color": "#2a3f5f"
            },
            "marker": {
             "line": {
              "color": "#E5ECF6",
              "width": 0.5
             },
             "pattern": {
              "fillmode": "overlay",
              "size": 10,
              "solidity": 0.2
             }
            },
            "type": "bar"
           }
          ],
          "barpolar": [
           {
            "marker": {
             "line": {
              "color": "#E5ECF6",
              "width": 0.5
             },
             "pattern": {
              "fillmode": "overlay",
              "size": 10,
              "solidity": 0.2
             }
            },
            "type": "barpolar"
           }
          ],
          "carpet": [
           {
            "aaxis": {
             "endlinecolor": "#2a3f5f",
             "gridcolor": "white",
             "linecolor": "white",
             "minorgridcolor": "white",
             "startlinecolor": "#2a3f5f"
            },
            "baxis": {
             "endlinecolor": "#2a3f5f",
             "gridcolor": "white",
             "linecolor": "white",
             "minorgridcolor": "white",
             "startlinecolor": "#2a3f5f"
            },
            "type": "carpet"
           }
          ],
          "choropleth": [
           {
            "colorbar": {
             "outlinewidth": 0,
             "ticks": ""
            },
            "type": "choropleth"
           }
          ],
          "contour": [
           {
            "colorbar": {
             "outlinewidth": 0,
             "ticks": ""
            },
            "colorscale": [
             [
              0,
              "#0d0887"
             ],
             [
              0.1111111111111111,
              "#46039f"
             ],
             [
              0.2222222222222222,
              "#7201a8"
             ],
             [
              0.3333333333333333,
              "#9c179e"
             ],
             [
              0.4444444444444444,
              "#bd3786"
             ],
             [
              0.5555555555555556,
              "#d8576b"
             ],
             [
              0.6666666666666666,
              "#ed7953"
             ],
             [
              0.7777777777777778,
              "#fb9f3a"
             ],
             [
              0.8888888888888888,
              "#fdca26"
             ],
             [
              1,
              "#f0f921"
             ]
            ],
            "type": "contour"
           }
          ],
          "contourcarpet": [
           {
            "colorbar": {
             "outlinewidth": 0,
             "ticks": ""
            },
            "type": "contourcarpet"
           }
          ],
          "heatmap": [
           {
            "colorbar": {
             "outlinewidth": 0,
             "ticks": ""
            },
            "colorscale": [
             [
              0,
              "#0d0887"
             ],
             [
              0.1111111111111111,
              "#46039f"
             ],
             [
              0.2222222222222222,
              "#7201a8"
             ],
             [
              0.3333333333333333,
              "#9c179e"
             ],
             [
              0.4444444444444444,
              "#bd3786"
             ],
             [
              0.5555555555555556,
              "#d8576b"
             ],
             [
              0.6666666666666666,
              "#ed7953"
             ],
             [
              0.7777777777777778,
              "#fb9f3a"
             ],
             [
              0.8888888888888888,
              "#fdca26"
             ],
             [
              1,
              "#f0f921"
             ]
            ],
            "type": "heatmap"
           }
          ],
          "heatmapgl": [
           {
            "colorbar": {
             "outlinewidth": 0,
             "ticks": ""
            },
            "colorscale": [
             [
              0,
              "#0d0887"
             ],
             [
              0.1111111111111111,
              "#46039f"
             ],
             [
              0.2222222222222222,
              "#7201a8"
             ],
             [
              0.3333333333333333,
              "#9c179e"
             ],
             [
              0.4444444444444444,
              "#bd3786"
             ],
             [
              0.5555555555555556,
              "#d8576b"
             ],
             [
              0.6666666666666666,
              "#ed7953"
             ],
             [
              0.7777777777777778,
              "#fb9f3a"
             ],
             [
              0.8888888888888888,
              "#fdca26"
             ],
             [
              1,
              "#f0f921"
             ]
            ],
            "type": "heatmapgl"
           }
          ],
          "histogram": [
           {
            "marker": {
             "pattern": {
              "fillmode": "overlay",
              "size": 10,
              "solidity": 0.2
             }
            },
            "type": "histogram"
           }
          ],
          "histogram2d": [
           {
            "colorbar": {
             "outlinewidth": 0,
             "ticks": ""
            },
            "colorscale": [
             [
              0,
              "#0d0887"
             ],
             [
              0.1111111111111111,
              "#46039f"
             ],
             [
              0.2222222222222222,
              "#7201a8"
             ],
             [
              0.3333333333333333,
              "#9c179e"
             ],
             [
              0.4444444444444444,
              "#bd3786"
             ],
             [
              0.5555555555555556,
              "#d8576b"
             ],
             [
              0.6666666666666666,
              "#ed7953"
             ],
             [
              0.7777777777777778,
              "#fb9f3a"
             ],
             [
              0.8888888888888888,
              "#fdca26"
             ],
             [
              1,
              "#f0f921"
             ]
            ],
            "type": "histogram2d"
           }
          ],
          "histogram2dcontour": [
           {
            "colorbar": {
             "outlinewidth": 0,
             "ticks": ""
            },
            "colorscale": [
             [
              0,
              "#0d0887"
             ],
             [
              0.1111111111111111,
              "#46039f"
             ],
             [
              0.2222222222222222,
              "#7201a8"
             ],
             [
              0.3333333333333333,
              "#9c179e"
             ],
             [
              0.4444444444444444,
              "#bd3786"
             ],
             [
              0.5555555555555556,
              "#d8576b"
             ],
             [
              0.6666666666666666,
              "#ed7953"
             ],
             [
              0.7777777777777778,
              "#fb9f3a"
             ],
             [
              0.8888888888888888,
              "#fdca26"
             ],
             [
              1,
              "#f0f921"
             ]
            ],
            "type": "histogram2dcontour"
           }
          ],
          "mesh3d": [
           {
            "colorbar": {
             "outlinewidth": 0,
             "ticks": ""
            },
            "type": "mesh3d"
           }
          ],
          "parcoords": [
           {
            "line": {
             "colorbar": {
              "outlinewidth": 0,
              "ticks": ""
             }
            },
            "type": "parcoords"
           }
          ],
          "pie": [
           {
            "automargin": true,
            "type": "pie"
           }
          ],
          "scatter": [
           {
            "fillpattern": {
             "fillmode": "overlay",
             "size": 10,
             "solidity": 0.2
            },
            "type": "scatter"
           }
          ],
          "scatter3d": [
           {
            "line": {
             "colorbar": {
              "outlinewidth": 0,
              "ticks": ""
             }
            },
            "marker": {
             "colorbar": {
              "outlinewidth": 0,
              "ticks": ""
             }
            },
            "type": "scatter3d"
           }
          ],
          "scattercarpet": [
           {
            "marker": {
             "colorbar": {
              "outlinewidth": 0,
              "ticks": ""
             }
            },
            "type": "scattercarpet"
           }
          ],
          "scattergeo": [
           {
            "marker": {
             "colorbar": {
              "outlinewidth": 0,
              "ticks": ""
             }
            },
            "type": "scattergeo"
           }
          ],
          "scattergl": [
           {
            "marker": {
             "colorbar": {
              "outlinewidth": 0,
              "ticks": ""
             }
            },
            "type": "scattergl"
           }
          ],
          "scattermapbox": [
           {
            "marker": {
             "colorbar": {
              "outlinewidth": 0,
              "ticks": ""
             }
            },
            "type": "scattermapbox"
           }
          ],
          "scatterpolar": [
           {
            "marker": {
             "colorbar": {
              "outlinewidth": 0,
              "ticks": ""
             }
            },
            "type": "scatterpolar"
           }
          ],
          "scatterpolargl": [
           {
            "marker": {
             "colorbar": {
              "outlinewidth": 0,
              "ticks": ""
             }
            },
            "type": "scatterpolargl"
           }
          ],
          "scatterternary": [
           {
            "marker": {
             "colorbar": {
              "outlinewidth": 0,
              "ticks": ""
             }
            },
            "type": "scatterternary"
           }
          ],
          "surface": [
           {
            "colorbar": {
             "outlinewidth": 0,
             "ticks": ""
            },
            "colorscale": [
             [
              0,
              "#0d0887"
             ],
             [
              0.1111111111111111,
              "#46039f"
             ],
             [
              0.2222222222222222,
              "#7201a8"
             ],
             [
              0.3333333333333333,
              "#9c179e"
             ],
             [
              0.4444444444444444,
              "#bd3786"
             ],
             [
              0.5555555555555556,
              "#d8576b"
             ],
             [
              0.6666666666666666,
              "#ed7953"
             ],
             [
              0.7777777777777778,
              "#fb9f3a"
             ],
             [
              0.8888888888888888,
              "#fdca26"
             ],
             [
              1,
              "#f0f921"
             ]
            ],
            "type": "surface"
           }
          ],
          "table": [
           {
            "cells": {
             "fill": {
              "color": "#EBF0F8"
             },
             "line": {
              "color": "white"
             }
            },
            "header": {
             "fill": {
              "color": "#C8D4E3"
             },
             "line": {
              "color": "white"
             }
            },
            "type": "table"
           }
          ]
         },
         "layout": {
          "annotationdefaults": {
           "arrowcolor": "#2a3f5f",
           "arrowhead": 0,
           "arrowwidth": 1
          },
          "autotypenumbers": "strict",
          "coloraxis": {
           "colorbar": {
            "outlinewidth": 0,
            "ticks": ""
           }
          },
          "colorscale": {
           "diverging": [
            [
             0,
             "#8e0152"
            ],
            [
             0.1,
             "#c51b7d"
            ],
            [
             0.2,
             "#de77ae"
            ],
            [
             0.3,
             "#f1b6da"
            ],
            [
             0.4,
             "#fde0ef"
            ],
            [
             0.5,
             "#f7f7f7"
            ],
            [
             0.6,
             "#e6f5d0"
            ],
            [
             0.7,
             "#b8e186"
            ],
            [
             0.8,
             "#7fbc41"
            ],
            [
             0.9,
             "#4d9221"
            ],
            [
             1,
             "#276419"
            ]
           ],
           "sequential": [
            [
             0,
             "#0d0887"
            ],
            [
             0.1111111111111111,
             "#46039f"
            ],
            [
             0.2222222222222222,
             "#7201a8"
            ],
            [
             0.3333333333333333,
             "#9c179e"
            ],
            [
             0.4444444444444444,
             "#bd3786"
            ],
            [
             0.5555555555555556,
             "#d8576b"
            ],
            [
             0.6666666666666666,
             "#ed7953"
            ],
            [
             0.7777777777777778,
             "#fb9f3a"
            ],
            [
             0.8888888888888888,
             "#fdca26"
            ],
            [
             1,
             "#f0f921"
            ]
           ],
           "sequentialminus": [
            [
             0,
             "#0d0887"
            ],
            [
             0.1111111111111111,
             "#46039f"
            ],
            [
             0.2222222222222222,
             "#7201a8"
            ],
            [
             0.3333333333333333,
             "#9c179e"
            ],
            [
             0.4444444444444444,
             "#bd3786"
            ],
            [
             0.5555555555555556,
             "#d8576b"
            ],
            [
             0.6666666666666666,
             "#ed7953"
            ],
            [
             0.7777777777777778,
             "#fb9f3a"
            ],
            [
             0.8888888888888888,
             "#fdca26"
            ],
            [
             1,
             "#f0f921"
            ]
           ]
          },
          "colorway": [
           "#636efa",
           "#EF553B",
           "#00cc96",
           "#ab63fa",
           "#FFA15A",
           "#19d3f3",
           "#FF6692",
           "#B6E880",
           "#FF97FF",
           "#FECB52"
          ],
          "font": {
           "color": "#2a3f5f"
          },
          "geo": {
           "bgcolor": "white",
           "lakecolor": "white",
           "landcolor": "#E5ECF6",
           "showlakes": true,
           "showland": true,
           "subunitcolor": "white"
          },
          "hoverlabel": {
           "align": "left"
          },
          "hovermode": "closest",
          "mapbox": {
           "style": "light"
          },
          "paper_bgcolor": "white",
          "plot_bgcolor": "#E5ECF6",
          "polar": {
           "angularaxis": {
            "gridcolor": "white",
            "linecolor": "white",
            "ticks": ""
           },
           "bgcolor": "#E5ECF6",
           "radialaxis": {
            "gridcolor": "white",
            "linecolor": "white",
            "ticks": ""
           }
          },
          "scene": {
           "xaxis": {
            "backgroundcolor": "#E5ECF6",
            "gridcolor": "white",
            "gridwidth": 2,
            "linecolor": "white",
            "showbackground": true,
            "ticks": "",
            "zerolinecolor": "white"
           },
           "yaxis": {
            "backgroundcolor": "#E5ECF6",
            "gridcolor": "white",
            "gridwidth": 2,
            "linecolor": "white",
            "showbackground": true,
            "ticks": "",
            "zerolinecolor": "white"
           },
           "zaxis": {
            "backgroundcolor": "#E5ECF6",
            "gridcolor": "white",
            "gridwidth": 2,
            "linecolor": "white",
            "showbackground": true,
            "ticks": "",
            "zerolinecolor": "white"
           }
          },
          "shapedefaults": {
           "line": {
            "color": "#2a3f5f"
           }
          },
          "ternary": {
           "aaxis": {
            "gridcolor": "white",
            "linecolor": "white",
            "ticks": ""
           },
           "baxis": {
            "gridcolor": "white",
            "linecolor": "white",
            "ticks": ""
           },
           "bgcolor": "#E5ECF6",
           "caxis": {
            "gridcolor": "white",
            "linecolor": "white",
            "ticks": ""
           }
          },
          "title": {
           "x": 0.05
          },
          "xaxis": {
           "automargin": true,
           "gridcolor": "white",
           "linecolor": "white",
           "ticks": "",
           "title": {
            "standoff": 15
           },
           "zerolinecolor": "white",
           "zerolinewidth": 2
          },
          "yaxis": {
           "automargin": true,
           "gridcolor": "white",
           "linecolor": "white",
           "ticks": "",
           "title": {
            "standoff": 15
           },
           "zerolinecolor": "white",
           "zerolinewidth": 2
          }
         }
        },
        "title": {
         "font": {
          "size": 20
         },
         "text": "Top projects over 10k stars"
        },
        "width": 1024
       }
      }
     },
     "metadata": {},
     "output_type": "display_data"
    }
   ],
   "source": [
    "import requests\n",
    "import plotly.express as px\n",
    "from IPython.display import display, Image\n",
    "\n",
    "## API call\n",
    "languages = [\"python\", \"ruby\", \"javascript\", \"java\", \"go\", \"csharp\"]\n",
    "data_count = []\n",
    "for language in languages:\n",
    "    url = f\"https://api.github.com/search/repositories?q=language:{language}+stars:>10000&sort=stars&order=desc\"\n",
    "    response = requests.get(url)\n",
    "\n",
    "    # Checking Status Code\n",
    "    if response.status_code == 200:\n",
    "        print(f\"Request succesfull for {language}! Code: {response.status_code}\")\n",
    "    else:\n",
    "        print(f\"Something go wrong for {language}... Status code: {response.status_code}\")\n",
    "\n",
    "    if language == \"python\":\n",
    "        data_python = response.json()\n",
    "        print(f\"\\nComplete results {language}: {not data_python['incomplete_results']}\")\n",
    "        #print(f\"Total repositories: {data_python['total_count']}\")\n",
    "        data_count.append(data_python['total_count'])\n",
    "    elif language == \"ruby\":\n",
    "        data_ruby = response.json()\n",
    "        print(f\"\\nComplete results {language}: {not data_ruby['incomplete_results']}\")\n",
    "        #print(f\"Total repositories: {data_ruby['total_count']}\")\n",
    "        data_count.append(data_ruby['total_count'])\n",
    "    elif language == \"javascript\":\n",
    "        data_js = response.json()\n",
    "        print(f\"\\nComplete results {language}: {not data_js['incomplete_results']}\")\n",
    "        #print(f\"Total repositories: {data_js['total_count']}\")\n",
    "        data_count.append(data_js['total_count'])\n",
    "    elif language == \"java\":\n",
    "        data_java = response.json()\n",
    "        print(f\"\\nComplete results {language}: {not data_java['incomplete_results']}\")\n",
    "        #print(f\"Total repositories: {data_java['total_count']}\")\n",
    "        data_count.append(data_java['total_count'])\n",
    "    elif language == \"go\":\n",
    "        data_go = response.json()\n",
    "        print(f\"\\nComplete results {language}: {not data_go['incomplete_results']}\")\n",
    "        #print(f\"Total repositories: {data_go['total_count']}\")\n",
    "        data_count.append(data_go['total_count'])\n",
    "    elif language == \"csharp\":\n",
    "        data_cs = response.json()\n",
    "        print(f\"\\nComplete results {language}: {not data_cs['incomplete_results']}\")\n",
    "        #print(f\"Total repositories: {data_cs['total_count']}\")\n",
    "        data_count.append(data_cs['total_count'])\n",
    "\n",
    "\n",
    "# Visualization\n",
    "title = \"Top projects over 10k stars\"\n",
    "#labels = {\"x\":\"Name\",\"y\":\"Stars\"}\n",
    "fig = px.pie(values=data_count, names=languages, title=title, width=1024, height=720,\n",
    "             labels={\n",
    "                \"values\":\"Repositores\",\n",
    "                \"names\":\"Languages\",\n",
    "             },\n",
    "             )\n",
    "\n",
    "fig.update_layout(title_font_size=20)\n",
    "\n",
    "fig.show()\n",
    "#Image(fig.to_image(format='png'))"
   ]
  },
  {
   "attachments": {
    "image.png": {
     "image/png": "[encoded data removed]"
    }
   },
   "cell_type": "markdown",
   "metadata": {},
   "source": [
    "![image.png](attachment:image.png)"
   ]
  },
  {
   "cell_type": "markdown",
   "metadata": {},
   "source": [
    "## Schematic Summary\n",
    "\n",
    "We used:\n",
    "```python\n",
    "# To make API call\n",
    "import requests\n",
    "# Working with json\n",
    "import json\n",
    "# Plotly visualizations\n",
    "import plotly.express as px\n",
    "# To see the visualization from plotly as an image\n",
    "from IPython.display import display, Image\n",
    "```\n",
    "### Basic sintaxis:\n",
    "First, we generate a variable with the url for the API and we use the module `requests` and `get()` function to make the call.\n",
    "```python\n",
    "url = \"https://hacker-news.firebaseio.com/v0/topstories.json\"\n",
    "data = requests.get(url)\n",
    "```\n",
    "It's useful to know if `data.status_code` is 200, the request was succesfull.<br>\n",
    "Later, we read this data with `data.json()`. We can print the variable under `data.json()` to see the dictionary, but we can let it format with `json.dumps(data, indent=4)` and then print it, it will be eseable to read. Note that whatever is inside `items:` is the downloaded data. \n",
    "```python\n",
    "data_dict = data.json()\n",
    "data_print = json.dumps(data_dict, indent=4)\n",
    "```\n",
    "We can print the first item to see what headers it has and know what we can explore further.\n",
    "```python\n",
    "data_items = data_dict['items']\n",
    "print(f\"Total items: {len(data_items)}\")\n",
    "data_item = data_items[0]\n",
    "data_item = json.dumps(data_item, indent=4)\n",
    "print(f\"First item data: \\n{data_item}\")\n",
    "```\n"
   ]
  }
 ],
 "metadata": {
  "kernelspec": {
   "display_name": "Python 3",
   "language": "python",
   "name": "python3"
  },
  "language_info": {
   "codemirror_mode": {
    "name": "ipython",
    "version": 3
   },
   "file_extension": ".py",
   "mimetype": "text/x-python",
   "name": "python",
   "nbconvert_exporter": "python",
   "pygments_lexer": "ipython3",
   "version": "3.12.2"
  }
 },
 "nbformat": 4,
 "nbformat_minor": 2
}
