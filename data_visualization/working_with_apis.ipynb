{
 "cells": [
  {
   "cell_type": "markdown",
   "metadata": {},
   "source": [
    "# Working with APIs\n",
    "\n",
    "We'll write a program that generates a visualization based on data it retrieves. It will use an API or *application programming interface* to automaticaly request information from a website and use that to generate a visualization.\n",
    "\n",
    "## Index\n",
    "\n",
    "* [Using an API](#using-an-api)\n",
    "* [Requesting Data using an API call](#requesting-data-using-an-api-call)\n",
    "* [Installing Requests](#installing-requests)\n",
    "* [Processing an API Response](#processing-an-api-response)\n"
   ]
  },
  {
   "cell_type": "markdown",
   "metadata": {},
   "source": [
    "## Using an API\n",
    "\n",
    "We'll write a program to download information about th emost-starred Python projects on GitHub, and we'll create a visualization with this information.\n",
    "\n",
    "### Requesting Data Using an API Call\n",
    "\n",
    "This is what an API call looks like, inside the link you can see the response:<br>\n",
    "https://api.github.com/search/repositories?q=language:python+sort:stars \n",
    "\n",
    "- *https://api.github.com/* directs the request to GitHub's API.\n",
    "- *search/repositories/* conducts the search through all the repositories.\n",
    "- *?* means that later we are going to pass an argument.\n",
    "- *q=* the equal lets us begin specifying a query.\n",
    "- *language:python* we specified repositories that have Python as primary language.\n",
    "- *+sort:stars* sorts the prohect by the number of stars.\n",
    "\n",
    "### Installing Requests\n",
    "\n",
    "We need the `Requests` package to easily request information from a website and examine the response.\n",
    "```python\n",
    "python -m pip install --user requests\n",
    "```\n",
    "\n",
    "### Processing an API Response\n"
   ]
  },
  {
   "cell_type": "code",
   "execution_count": 4,
   "metadata": {},
   "outputs": [
    {
     "name": "stdout",
     "output_type": "stream",
     "text": [
      "Request succesfull! Code: 200\n",
      "dict_keys(['total_count', 'incomplete_results', 'items'])\n"
     ]
    }
   ],
   "source": [
    "import requests\n",
    "\n",
    "## API call\n",
    "url = \"https://api.github.com/search/repositories?q=language:python+stars:>10000&sort=stars&order=desc\"\n",
    "\n",
    "response = requests.get(url) # Making the call\n",
    "\n",
    "if response.status_code == 200:\n",
    "    print(f\"Request succesfull! Code: {response.status_code}\")\n",
    "else:\n",
    "    print(f\"Something go wrong... Status code: {response.status_code}\")\n",
    "\n",
    "# Convert the response to a dictionary\n",
    "data = response.json()\n",
    "\n",
    "# Process resuts\n",
    "print(data.keys())"
   ]
  },
  {
   "cell_type": "markdown",
   "metadata": {},
   "source": [
    "### Working with the Response Dictionary\n"
   ]
  }
 ],
 "metadata": {
  "kernelspec": {
   "display_name": "Python 3",
   "language": "python",
   "name": "python3"
  },
  "language_info": {
   "codemirror_mode": {
    "name": "ipython",
    "version": 3
   },
   "file_extension": ".py",
   "mimetype": "text/x-python",
   "name": "python",
   "nbconvert_exporter": "python",
   "pygments_lexer": "ipython3",
   "version": "3.12.2"
  }
 },
 "nbformat": 4,
 "nbformat_minor": 2
}
